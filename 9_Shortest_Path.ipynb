{
 "cells": [
  {
   "cell_type": "markdown",
   "id": "a700b885-1560-4052-8ee8-7b80c7abbfee",
   "metadata": {},
   "source": [
    "## 9-1 간단한 다익스트라 알고리즘 소스코드"
   ]
  },
  {
   "cell_type": "code",
   "execution_count": 2,
   "id": "fd3a6574-f387-4efa-856f-899973098f77",
   "metadata": {},
   "outputs": [
    {
     "name": "stdin",
     "output_type": "stream",
     "text": [
      " 6 11\n",
      " 1\n",
      " 1 2 2\n",
      " 1 3 5\n",
      " 1 4 1\n",
      " 2 3 3\n",
      " 2 4 2\n",
      " 3 2 3\n",
      " 3 6 5\n",
      " 4 3 3\n",
      " 4 5 1\n",
      " 5 3 1\n",
      " 5 6 2\n"
     ]
    },
    {
     "name": "stdout",
     "output_type": "stream",
     "text": [
      "0\n",
      "2\n",
      "3\n",
      "1\n",
      "2\n",
      "4\n"
     ]
    }
   ],
   "source": [
    "import sys\n",
    "#input = sys.stdin.readline\n",
    "INF = int(1e9) # 무한을 의미하는 값으로 10억을 설정\n",
    "\n",
    "n, m = map(int, input().split())\n",
    "start = int(input())\n",
    "\n",
    "graph = [[] for i in range(n + 1)]\n",
    "visited = [False] * (n + 1)\n",
    "distance = [INF] * (n + 1)\n",
    "\n",
    "for _ in range(m):\n",
    "    a, b, c = map(int, input().split())\n",
    "    graph[a].append((b, c))\n",
    "\n",
    "def get_smallest_node():\n",
    "    min_value = INF\n",
    "    index = 0\n",
    "    for i in range(1, n + 1):\n",
    "        if distance[i] < min_value and not visited[i]:\n",
    "            min_value = distance[i]\n",
    "            index = i\n",
    "    return index\n",
    "    \n",
    "def dijkstra(start):\n",
    "    distance[start] = 0\n",
    "    visited[start] = True\n",
    "    for j in graph[start]:\n",
    "        distance[j[0]] = j[1]\n",
    "        \n",
    "    for i in range(n - 1):\n",
    "        now = get_smallest_node()\n",
    "        visited[now] = True\n",
    "        for j in graph[now]:\n",
    "            cost = distance[now] + j[1]\n",
    "            if cost < distance[j[0]]:\n",
    "                distance[j[0]] = cost\n",
    "                \n",
    "                \n",
    "dijkstra(start)\n",
    "\n",
    "for i in range(1, n + 1):\n",
    "    if distance[i] == INF:\n",
    "        print(\"INFINITY\")\n",
    "    else:\n",
    "        print(distance[i])\n",
    "    \n",
    "    "
   ]
  },
  {
   "cell_type": "markdown",
   "id": "0068260c-008c-43ec-9c54-ffe2c7bf4f2a",
   "metadata": {},
   "source": [
    "## 9-2 개선된 다익스트라 알고리즘 소스코드"
   ]
  },
  {
   "cell_type": "code",
   "execution_count": 4,
   "id": "3858444b-1a34-47fd-880d-420b85db0a8c",
   "metadata": {},
   "outputs": [
    {
     "name": "stdin",
     "output_type": "stream",
     "text": [
      " 6 11\n",
      " 1\n",
      " 1 2 2\n",
      "  1 3 5\n",
      " 1 4 1\n",
      " 2 3 3\n",
      " 2 4 2\n",
      " 3 2 3\n",
      " 3 6 5\n",
      " 4 3 3\n",
      " 4 5 1\n",
      " 5 3 1\n",
      " 5 6 2\n"
     ]
    },
    {
     "name": "stdout",
     "output_type": "stream",
     "text": [
      "0\n",
      "2\n",
      "3\n",
      "1\n",
      "2\n",
      "4\n"
     ]
    }
   ],
   "source": [
    "import heapq\n",
    "import sys\n",
    "#input = sys.stdin.readline\n",
    "INF = int(1e9)\n",
    "\n",
    "n, m =  map(int, input().split())\n",
    "\n",
    "start = int(input())\n",
    "graph = [[] for i in range(n + 1)]\n",
    "distance = [INF] * (n + 1)\n",
    "\n",
    "for _ in range(m):\n",
    "    a, b, c = map(int, input().split())\n",
    "    graph[a].append((b, c))\n",
    "    \n",
    "\n",
    "def dijkstra(start):\n",
    "    q = []\n",
    "    heapq.heappush(q, (0, start))\n",
    "    distance[start] = 0\n",
    "    while q:\n",
    "        dist, now = heapq.heappop(q)\n",
    "        if distance[now] < dist:\n",
    "            continue\n",
    "        for i in graph[now]:\n",
    "            cost = dist + i[1]\n",
    "            if cost <  distance[i[0]]:\n",
    "                distance[i[0]] = cost\n",
    "                heapq.heappush(q, (cost, i[0]))\n",
    "                \n",
    "\n",
    "dijkstra(start)\n",
    "\n",
    "for i in range(1, n + 1):\n",
    "    if distance[i] == INF:\n",
    "        print('INFINITY')\n",
    "    else:\n",
    "        print(distance[i])"
   ]
  },
  {
   "cell_type": "markdown",
   "id": "84098bcd-a408-49c2-86e4-2700c9c114a6",
   "metadata": {},
   "source": [
    "## 9-3 플로이드 워셜 알고리즘 소스코드"
   ]
  },
  {
   "cell_type": "code",
   "execution_count": 6,
   "id": "0166bfbf-2521-4141-93da-28a689ab3b4f",
   "metadata": {},
   "outputs": [
    {
     "name": "stdin",
     "output_type": "stream",
     "text": [
      " 4\n",
      " 7\n",
      " 1 2 4\n",
      " 1 4 6\n",
      " 2 1 3\n",
      " 2 3 7\n",
      " 3 1 5\n",
      " 3 4 4\n",
      " 4 3 2\n"
     ]
    },
    {
     "name": "stdout",
     "output_type": "stream",
     "text": [
      "0 4 8 6 \n",
      "3 0 7 9 \n",
      "5 9 0 4 \n",
      "7 11 2 0 \n"
     ]
    }
   ],
   "source": [
    "INF = int(1e9)\n",
    "\n",
    "n = int(input())\n",
    "m = int(input())\n",
    "\n",
    "graph = [[INF] * (n + 1) for _ in range(n + 1)]\n",
    "\n",
    "for a in range(1, n + 1):\n",
    "    for b in range(1, n + 1):\n",
    "        if a == b:\n",
    "            graph[a][b] = 0\n",
    "        \n",
    "for _ in range(m):\n",
    "    a, b, c = map(int, input().split())\n",
    "    graph[a][b] = c\n",
    "\n",
    "for k in range(1, n + 1):\n",
    "    for a in range(1, n + 1):\n",
    "        for b in range(1, n + 1):\n",
    "            graph[a][b] = min(graph[a][b], graph[a][k] + graph[k][b])\n",
    "\n",
    "for a in range(1, n + 1):\n",
    "    for b in range(1, n + 1):\n",
    "        if graph[a][b] == INF:\n",
    "            print('INFINITY', end=' ')\n",
    "        else:\n",
    "            print(graph[a][b], end=' ')\n",
    "    print()\n",
    "            "
   ]
  },
  {
   "cell_type": "markdown",
   "id": "1e0fe097-1672-484d-b8eb-722541c907ad",
   "metadata": {},
   "source": [
    "# 실전 문제"
   ]
  },
  {
   "cell_type": "markdown",
   "id": "0aef40a1-e543-4b3b-a4f8-dfd6423509c1",
   "metadata": {
    "tags": []
   },
   "source": [
    "## 1. 미래 도시 "
   ]
  },
  {
   "cell_type": "markdown",
   "id": "ff7bd911-528a-4d0c-9113-96bbb48cae8d",
   "metadata": {
    "tags": []
   },
   "source": [
    "### 입력조건  \n",
    "- 첫째 줄줄에 전체 회사의 개수 N과 경로의 개수 M이 공백으로 구분되어 차례대로 주어진다.<br> (1<=N, M<=100)\n",
    "- 둘째 줄부터 M+1번째 줄에는 연결된 두 회사의 번호가 공백으로 구분되어 주어진다. \n",
    "- M+2 번째 줄에는 X와 K가 공백으러 구분되어 차례대로 주어진다. (1<=K<=100)"
   ]
  },
  {
   "cell_type": "markdown",
   "id": "900efcb6-e131-4796-b455-2d5c89a7ded9",
   "metadata": {
    "tags": []
   },
   "source": [
    "### 출력 조건  \n",
    "- 첫째 줄에 방문한 판매원 A가 K번 회사를 거쳐 X번 회사로 가는 최소 이동시간을 출력한다.\n",
    "- 만약 X번 회사에 도달할 수 없으면 -1을 출력한다."
   ]
  },
  {
   "cell_type": "code",
   "execution_count": 7,
   "id": "646f578a-b9c8-4876-9aa9-e51072f13cc9",
   "metadata": {},
   "outputs": [
    {
     "name": "stdin",
     "output_type": "stream",
     "text": [
      " 5 7\n",
      " 1 3\n",
      " 1 3\n",
      " 1 4\n",
      " 2 4\n",
      " 3 4\n",
      " 3 5\n",
      " 4 5\n",
      " 4 5\n"
     ]
    },
    {
     "name": "stdout",
     "output_type": "stream",
     "text": [
      "3\n"
     ]
    }
   ],
   "source": [
    "INF = int(1e9)\n",
    "\n",
    "n, m = map(int, input().split())\n",
    "graph = [[INF] * (n + 1) for _ in range(n + 1)]\n",
    "\n",
    "for a in range(1, n + 1):\n",
    "    for b in range(1, n + 1):\n",
    "        if a == b:\n",
    "            graph[a][b] = 0\n",
    "\n",
    "for _ in range(m):\n",
    "    a, b = map(int, input().split())\n",
    "    graph[a][b] = 1\n",
    "    graph[b][a] = 1\n",
    "\n",
    "x, k = map(int, input().split())\n",
    "\n",
    "for k in range(1, n + 1):\n",
    "    for a in range(1, n + 1):\n",
    "        for b in range(1, n + 1):\n",
    "            graph[a][b] = min(graph[a][b], graph[a][k] + graph[k][b])\n",
    "\n",
    "distance = graph[1][k] + graph[k][x]\n",
    "\n",
    "if distance >= INF:\n",
    "    print('-1')\n",
    "    \n",
    "else:\n",
    "    print(distance)"
   ]
  },
  {
   "cell_type": "code",
   "execution_count": 8,
   "id": "a0f4142b-64f9-41c3-b7ef-33a3a0d71258",
   "metadata": {},
   "outputs": [
    {
     "name": "stdin",
     "output_type": "stream",
     "text": [
      " 4 2\n",
      " 1 3\n",
      " 2 4\n",
      " 3 4\n"
     ]
    },
    {
     "name": "stdout",
     "output_type": "stream",
     "text": [
      "-1\n"
     ]
    }
   ],
   "source": [
    "INF = int(1e9)\n",
    "\n",
    "n, m = map(int, input().split())\n",
    "graph = [[INF] * (n + 1) for _ in range(n + 1)]\n",
    "\n",
    "for a in range(1, n + 1):\n",
    "    for b in range(1, n + 1):\n",
    "        if a == b:\n",
    "            graph[a][b] = 0\n",
    "\n",
    "for _ in range(m):\n",
    "    a, b = map(int, input().split())\n",
    "    graph[a][b] = 1\n",
    "    graph[b][a] = 1\n",
    "\n",
    "x, k = map(int, input().split())\n",
    "\n",
    "for k in range(1, n + 1):\n",
    "    for a in range(1, n + 1):\n",
    "        for b in range(1, n + 1):\n",
    "            graph[a][b] = min(graph[a][b], graph[a][k] + graph[k][b])\n",
    "\n",
    "distance = graph[1][k] + graph[k][x]\n",
    "\n",
    "if distance >= INF:\n",
    "    print('-1')\n",
    "    \n",
    "else:\n",
    "    print(distance)"
   ]
  },
  {
   "cell_type": "markdown",
   "id": "13b1ad41-c8b1-4808-ba68-1fc9b3f5b5b4",
   "metadata": {},
   "source": [
    "  "
   ]
  },
  {
   "cell_type": "markdown",
   "id": "c19524c1-cca9-41c7-8c44-e5eaf73734a1",
   "metadata": {},
   "source": [
    "---"
   ]
  },
  {
   "cell_type": "markdown",
   "id": "dca37911-5c9c-48a6-b5ca-1faca8f5a60a",
   "metadata": {
    "tags": []
   },
   "source": [
    "## 2. 전보"
   ]
  },
  {
   "cell_type": "markdown",
   "id": "131fd330-e9dc-4e86-94e9-748eb82c74dd",
   "metadata": {
    "tags": []
   },
   "source": [
    "### 입력조건  \n",
    "- 첫째 줄에 도시의 개수 N, 통로의 개수 M, 메세지를 보내고자 하는 도시 C가 주어진다.<br> (1<=N<=30,000, 1<=M<=200,000, 1<=C<=N)\n",
    "- 둘째 줄부터 M+1번째 줄에 걸쳐 통로에 대한 정보 X, Y, Z가 주어진다. 이는 특정 도시 X에서 다른 특정 도시 Y로 이어지는 통로가 있으며 메세지로 전달되는 시간이 Z라는 의미이다. <br> (1<=X, Y<=N, 1<=Z<=1,000)"
   ]
  },
  {
   "cell_type": "markdown",
   "id": "48229760-943b-4326-a1ed-29295ca69bbc",
   "metadata": {
    "tags": []
   },
   "source": [
    "### 출력 조건  \n",
    "- 첫째 줄에 도시 C에서 보낸 메세지를 받은 도시의 총 개수와 총 걸리는 시간을 공백으로 구분하여 출력한다."
   ]
  },
  {
   "cell_type": "code",
   "execution_count": 11,
   "id": "7b08dded-eaf7-4f62-acc6-b53ae987801f",
   "metadata": {},
   "outputs": [
    {
     "name": "stdin",
     "output_type": "stream",
     "text": [
      " 3 2 1\n",
      " 1 2 4\n",
      "  1 3 2\n"
     ]
    },
    {
     "name": "stdout",
     "output_type": "stream",
     "text": [
      "2 4\n"
     ]
    }
   ],
   "source": [
    "import heapq\n",
    "import sys\n",
    "\n",
    "#input = sys.stdin.readline\n",
    "INF = int(1e9)\n",
    "\n",
    "n, m, start = map(int, input().split())\n",
    "graph = [[] for i in range(n + 1)]\n",
    "distance = [INF] * (n + 1)\n",
    "\n",
    "for _ in range(m):\n",
    "    x, y, z = map(int, input().split())\n",
    "    graph[x].append((y,z))\n",
    "    \n",
    "def dijkstra(start):\n",
    "    q = []\n",
    "    heapq.heappush(q, (0, start))\n",
    "    distance[start] = 0\n",
    "    while q:\n",
    "        dist, now = heapq.heappop(q)\n",
    "        if distance[now] < dist:\n",
    "            continue\n",
    "        for i in graph[now]:\n",
    "            cost = dist + i[1]\n",
    "            if cost < distance[i[0]]:\n",
    "                distance[i[0]] = cost\n",
    "                heapq.heappush(q, (cost, i[0]))\n",
    "    \n",
    "\n",
    "dijkstra(start)\n",
    "\n",
    "count = 0\n",
    "max_distance = 0\n",
    "for d in distance:\n",
    "    if d != INF:\n",
    "        count += 1\n",
    "        max_distance = max(max_distance, d)\n",
    "\n",
    "print(count - 1, max_distance)"
   ]
  },
  {
   "cell_type": "code",
   "execution_count": null,
   "id": "c1ba018b-3c0c-438c-9080-d17f6f48332a",
   "metadata": {},
   "outputs": [],
   "source": []
  }
 ],
 "metadata": {
  "kernelspec": {
   "display_name": "Python 3 (ipykernel)",
   "language": "python",
   "name": "python3"
  },
  "language_info": {
   "codemirror_mode": {
    "name": "ipython",
    "version": 3
   },
   "file_extension": ".py",
   "mimetype": "text/x-python",
   "name": "python",
   "nbconvert_exporter": "python",
   "pygments_lexer": "ipython3",
   "version": "3.7.0"
  }
 },
 "nbformat": 4,
 "nbformat_minor": 5
}
