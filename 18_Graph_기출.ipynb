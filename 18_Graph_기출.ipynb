{
 "cells": [
  {
   "cell_type": "markdown",
   "id": "e2534f53",
   "metadata": {},
   "source": [
    "# A 41 여행 계획"
   ]
  },
  {
   "cell_type": "code",
   "execution_count": 1,
   "id": "c690f20d",
   "metadata": {},
   "outputs": [
    {
     "name": "stdout",
     "output_type": "stream",
     "text": [
      "5 4\n",
      "0 1 0 1 1\n",
      "1 0 1 1 0\n",
      "0 1 0 0 0\n",
      "1 1 0 0 0\n",
      "1 0 0 0 0\n",
      "2 3 4 3\n",
      "YES\n"
     ]
    }
   ],
   "source": [
    "def find_parent(parent, x):\n",
    "    if parent[x] != x:\n",
    "        parent[x] = find_parent(parent, parent[x])\n",
    "    return parent[x]\n",
    "\n",
    "def union_parent(parent, a, b):\n",
    "    a = find_parent(parent, a)\n",
    "    b = find_parent(parent, b)\n",
    "    if a < b:\n",
    "        parent[b] = a\n",
    "    else:\n",
    "        parent[a] = b\n",
    "\n",
    "n, m = map(int, input().split())\n",
    "parent = [0] * (n + 1) \n",
    "\n",
    "for i in range(1, n + 1):\n",
    "    parent[i] = i\n",
    "\n",
    "for i in range(n):\n",
    "    data = list(map(int, input().split()))\n",
    "    for j in range(n):\n",
    "        if data[j] == 1:\n",
    "            union_parent(parent, i + 1, j + 1)\n",
    "\n",
    "plan = list(map(int, input().split()))\n",
    "\n",
    "result = True\n",
    "for i in range(m - 1):\n",
    "    if find_parent(parent, plan[i]) != find_parent(parent, plan[i + 1]):\n",
    "        result = False\n",
    "\n",
    "if result:\n",
    "    print(\"YES\")\n",
    "else:\n",
    "    print(\"NO\")"
   ]
  },
  {
   "cell_type": "markdown",
   "id": "00a61b88",
   "metadata": {},
   "source": [
    "# A 42 탑승구"
   ]
  },
  {
   "cell_type": "code",
   "execution_count": 2,
   "id": "3cf24a06",
   "metadata": {},
   "outputs": [
    {
     "name": "stdout",
     "output_type": "stream",
     "text": [
      "4\n",
      "3\n",
      "4\n",
      "1\n",
      "1\n",
      "2\n"
     ]
    }
   ],
   "source": [
    "def find_parent(parent, x):\n",
    "    if parent[x] != x:\n",
    "        parent[x] = find_parent(parent, parent[x])\n",
    "    return parent[x]\n",
    "\n",
    "def union_parent(parent, a, b):\n",
    "    a = find_parent(parent, a)\n",
    "    b = find_parent(parent, b)\n",
    "    if a < b:\n",
    "        parent[b] = a\n",
    "    else:\n",
    "        parent[a] = b\n",
    "\n",
    "g = int(input())\n",
    "p = int(input())\n",
    "parent = [0] * (g + 1)\n",
    "\n",
    "for i in range(1, g + 1):\n",
    "    parent[i] = i\n",
    "\n",
    "result = 0\n",
    "for _ in range(p):\n",
    "    data = find_parent(parent, int(input()))\n",
    "    if data == 0:\n",
    "        break\n",
    "    union_parent(parent, data, data - 1)\n",
    "    result += 1\n",
    "\n",
    "print(result)"
   ]
  },
  {
   "cell_type": "markdown",
   "id": "416828df",
   "metadata": {},
   "source": [
    "# A 43 어두운 길"
   ]
  },
  {
   "cell_type": "code",
   "execution_count": 3,
   "id": "8883cb2b",
   "metadata": {},
   "outputs": [
    {
     "name": "stdout",
     "output_type": "stream",
     "text": [
      "7 11\n",
      "0 1 7\n",
      "0 3 5\n",
      "1 2 8\n",
      "1 3 9\n",
      "1 4 7\n",
      "2 4 5\n",
      "3 4 15\n",
      "3 5 6\n",
      "4 5 8\n",
      "4 6 9\n",
      "5 6 11\n",
      "51\n"
     ]
    }
   ],
   "source": [
    "def find_parent(parent, x):\n",
    "    if parent[x] != x:\n",
    "        parent[x] = find_parent(parent, parent[x])\n",
    "    return parent[x]\n",
    " \n",
    "def union_parent(parent, a, b):\n",
    "    a = find_parent(parent, a)\n",
    "    b = find_parent(parent, b)\n",
    "    if a < b:\n",
    "        parent[b] = a\n",
    "    else:\n",
    "        parent[a] = b\n",
    "\n",
    "n, m = map(int, input().split())\n",
    "parent = [0] * (n + 1)\n",
    "\n",
    "edges = []\n",
    "result = 0\n",
    "\n",
    "for i in range(1, n + 1):\n",
    "    parent[i] = i\n",
    "\n",
    "for _ in range(m):\n",
    "    x, y, z = map(int, input().split())\n",
    "    edges.append((z, x, y))\n",
    "\n",
    "edges.sort()\n",
    "total = 0\n",
    "\n",
    "for edge in edges:\n",
    "    cost, a, b = edge\n",
    "    total += cost\n",
    "    if find_parent(parent, a) != find_parent(parent, b):\n",
    "        union_parent(parent, a, b)\n",
    "        result += cost\n",
    "\n",
    "print(total - result)"
   ]
  },
  {
   "cell_type": "markdown",
   "id": "13549f73",
   "metadata": {},
   "source": [
    "# A 44 행성 터널"
   ]
  },
  {
   "cell_type": "code",
   "execution_count": 5,
   "id": "2975dff5",
   "metadata": {},
   "outputs": [
    {
     "name": "stdout",
     "output_type": "stream",
     "text": [
      "5\n",
      "11 -15 -15\n",
      "14 -5 -15\n",
      "-1 -1 -5\n",
      "10 -4 -1\n",
      "19 -4 19\n",
      "4\n"
     ]
    }
   ],
   "source": [
    "def find_parent(parent, x):\n",
    "    if parent[x] != x:\n",
    "        parent[x] = find_parent(parent, parent[x])\n",
    "    return parent[x]\n",
    " \n",
    "def union_parent(parent, a, b):\n",
    "    a = find_parent(parent, a)\n",
    "    b = find_parent(parent, b)\n",
    "    if a < b:\n",
    "        parent[b] = a\n",
    "    else:\n",
    "        parent[a] = b\n",
    "\n",
    "n = int(input())\n",
    "parent = [0] * (n + 1)\n",
    "\n",
    "edges = []\n",
    "result = 0\n",
    "\n",
    "for i in range(1, n + 1):\n",
    "    parent[i] = i\n",
    "\n",
    "x = []\n",
    "y = []\n",
    "z = []\n",
    "\n",
    "for i in range(1, n + 1):\n",
    "    data = list(map(int, input().split()))\n",
    "    x.append((data[0], i))\n",
    "    y.append((data[1], i))\n",
    "    z.append((data[2], i))\n",
    "\n",
    "x.sort()\n",
    "y.sort()\n",
    "z.sort()\n",
    "\n",
    "for i in range(n - 1):\n",
    "    edges.append((x[i + 1][0] - x[i][0], x[i][1], x[i + 1][1]))\n",
    "    edges.append((y[i + 1][0] - y[i][0], y[i][1], y[i + 1][1]))\n",
    "    edges.append((z[i + 1][0] - z[i][0], z[i][1], z[i + 1][1]))\n",
    "\n",
    "edges.sort()\n",
    "\n",
    "for edge in edges:\n",
    "    cost, a, b = edge\n",
    "    if find_parent(parent, a) != find_parent(parent, b):\n",
    "        union_parent(parent, a, b)\n",
    "        result += cost\n",
    "\n",
    "print(result)"
   ]
  },
  {
   "cell_type": "markdown",
   "id": "cab0e498",
   "metadata": {},
   "source": [
    "# A 45 최종 순위"
   ]
  },
  {
   "cell_type": "code",
   "execution_count": null,
   "id": "314938df",
   "metadata": {},
   "outputs": [
    {
     "name": "stdout",
     "output_type": "stream",
     "text": [
      "3\n",
      "5\n"
     ]
    }
   ],
   "source": [
    "from collections import deque\n",
    "\n",
    "for tc in range(int(input())):\n",
    "    n = int(input())\n",
    "    indegree = [0] * (n + 1)\n",
    "    graph = [[False] * (n + 1) for i in range(n + 1)]\n",
    "\n",
    "    data = list(map(int, input().split()))\n",
    "    for i in range(n):\n",
    "        for j in range(i + 1, n):\n",
    "            graph[data[i]][data[j]] = True\n",
    "            indegree[data[j]] += 1\n",
    "\n",
    "    m = int(input())\n",
    "    for i in range(m):\n",
    "        a, b = map(int, input().split())\n",
    "        if graph[a][b]:\n",
    "            graph[a][b] = False\n",
    "            graph[b][a] = True\n",
    "            indegree[a] += 1\n",
    "            indegree[b] -= 1\n",
    "        else:\n",
    "            graph[a][b] = True\n",
    "            graph[b][a] = False\n",
    "            indegree[a] -= 1\n",
    "            indegree[b] += 1\n",
    "\n",
    "    result = [] \n",
    "    q = deque()\n",
    "\n",
    "    for i in range(1, n + 1):\n",
    "        if indegree[i] == 0:\n",
    "            q.append(i)\n",
    "\n",
    "    certain = True\n",
    "    cycle = False\n",
    "\n",
    "    for i in range(n):\n",
    "        if len(q) == 0:\n",
    "            cycle = True\n",
    "            break\n",
    "        if len(q) >= 2:\n",
    "            certain = False\n",
    "            break\n",
    "        now = q.popleft()\n",
    "        result.append(now)\n",
    "        for j in range(1, n + 1):\n",
    "            if graph[now][j]:\n",
    "                indegree[j] -= 1\n",
    "                if indegree[j] == 0:\n",
    "                    q.append(j)\n",
    "\n",
    "    if cycle:\n",
    "        print(\"IMPOSSIBLE\")\n",
    "    elif not certain:\n",
    "        print(\"?\")\n",
    "    else:\n",
    "        for i in result:\n",
    "            print(i, end=' ')\n",
    "        print()"
   ]
  },
  {
   "cell_type": "code",
   "execution_count": null,
   "id": "4857463f",
   "metadata": {},
   "outputs": [],
   "source": []
  }
 ],
 "metadata": {
  "kernelspec": {
   "display_name": "Python 3 (ipykernel)",
   "language": "python",
   "name": "python3"
  },
  "language_info": {
   "codemirror_mode": {
    "name": "ipython",
    "version": 3
   },
   "file_extension": ".py",
   "mimetype": "text/x-python",
   "name": "python",
   "nbconvert_exporter": "python",
   "pygments_lexer": "ipython3",
   "version": "3.9.12"
  }
 },
 "nbformat": 4,
 "nbformat_minor": 5
}
