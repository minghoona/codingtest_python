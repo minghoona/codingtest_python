{
 "cells": [
  {
   "cell_type": "markdown",
   "id": "5a8ece09-8566-4c69-8d9a-1bcdaf4d4658",
   "metadata": {},
   "source": [
    "## 8-1 피보나치 함수 소스코드"
   ]
  },
  {
   "cell_type": "code",
   "execution_count": 11,
   "id": "78daed52-9065-429c-9008-69cae559413c",
   "metadata": {},
   "outputs": [],
   "source": [
    "def fibo(x):\n",
    "    if x == 1 or x == 2:\n",
    "        print('방문 ', x)\n",
    "        return 1\n",
    "    \n",
    "    print('방문 ', x)\n",
    "    return fibo(x - 1) + fibo(x - 2)"
   ]
  },
  {
   "cell_type": "code",
   "execution_count": 12,
   "id": "650b9168-f759-47cf-85a0-53a814178b94",
   "metadata": {},
   "outputs": [
    {
     "name": "stdout",
     "output_type": "stream",
     "text": [
      "방문  4\n",
      "방문  3\n",
      "방문  2\n",
      "방문  1\n",
      "방문  2\n",
      "3\n"
     ]
    }
   ],
   "source": [
    "print(fibo(4))"
   ]
  },
  {
   "cell_type": "code",
   "execution_count": 13,
   "id": "69d6c500-22e8-4c12-af90-f8cc5a23eb1a",
   "metadata": {},
   "outputs": [
    {
     "name": "stdout",
     "output_type": "stream",
     "text": [
      "방문  6\n",
      "방문  5\n",
      "방문  4\n",
      "방문  3\n",
      "방문  2\n",
      "방문  1\n",
      "방문  2\n",
      "방문  3\n",
      "방문  2\n",
      "방문  1\n",
      "방문  4\n",
      "방문  3\n",
      "방문  2\n",
      "방문  1\n",
      "방문  2\n",
      "8\n"
     ]
    }
   ],
   "source": [
    "print(fibo(6))"
   ]
  },
  {
   "cell_type": "markdown",
   "id": "31c98a26-3899-4f1a-97cf-c7d710c2525b",
   "metadata": {},
   "source": [
    "## 8-2 피보나치 수열 소스코드(재귀적)"
   ]
  },
  {
   "cell_type": "markdown",
   "id": "872b4d02-f0d9-411b-b148-dd024ff96c37",
   "metadata": {},
   "source": [
    "<b> 메모이제이션(Memoization) :</b> 다이나믹 프로그래밍을 구현하는 방법 중 한 종류로, 한 번 구현한 결과를 메모리 공간에 메모해두고 같은 식을 다시 호출하면 메모한 결과를 그대로 가져오는 기법. <b>캐싱(Caching)</b>이라고도 함."
   ]
  },
  {
   "cell_type": "code",
   "execution_count": 17,
   "id": "a343aee7-db98-4f56-919d-bca8aa4c79be",
   "metadata": {},
   "outputs": [],
   "source": [
    "d = [0] * 100\n",
    "\n",
    "def fibo(x):\n",
    "    if x == 1 or x == 2:\n",
    "        return 1\n",
    "    if d[x] !=0:\n",
    "        return d[x]\n",
    "    d[x] = fibo(x - 1) + fibo(x - 2)\n",
    "    return d[x]"
   ]
  },
  {
   "cell_type": "code",
   "execution_count": 15,
   "id": "e634b60c-35ba-49c9-938e-97bcb7c80861",
   "metadata": {},
   "outputs": [
    {
     "name": "stdout",
     "output_type": "stream",
     "text": [
      "218922995834555169026\n"
     ]
    }
   ],
   "source": [
    "print(fibo(99))"
   ]
  },
  {
   "cell_type": "code",
   "execution_count": 16,
   "id": "637560d8-3b8f-4889-b220-76dd178fdc73",
   "metadata": {},
   "outputs": [
    {
     "name": "stdout",
     "output_type": "stream",
     "text": [
      "8\n"
     ]
    }
   ],
   "source": [
    "print(fibo(6))"
   ]
  },
  {
   "cell_type": "markdown",
   "id": "4a0c7c5a-df91-45f3-8147-e96db3e32be6",
   "metadata": {},
   "source": [
    "## 8-3 호출되는 함수 확인"
   ]
  },
  {
   "cell_type": "code",
   "execution_count": 18,
   "id": "501684f9-334e-485b-bd5e-b2dff43bdba6",
   "metadata": {},
   "outputs": [],
   "source": [
    "d = [0] * 100\n",
    "\n",
    "def pibo(x):\n",
    "    print('f(' + str(x) + ')', end=' ')\n",
    "    if x == 1 or x == 2:\n",
    "        return 1\n",
    "    if d[x] != 0:\n",
    "        return d[x]\n",
    "    d[x] = pibo(x - 1) + pibo(x - 2)\n",
    "    return d[x]"
   ]
  },
  {
   "cell_type": "code",
   "execution_count": 20,
   "id": "117a7d05-59b4-4d77-a642-8b52006cc1c3",
   "metadata": {},
   "outputs": [
    {
     "name": "stdout",
     "output_type": "stream",
     "text": [
      "f(6) f(5) f(4) f(3) f(2) f(1) f(2) f(3) f(4) "
     ]
    },
    {
     "data": {
      "text/plain": [
       "8"
      ]
     },
     "execution_count": 20,
     "metadata": {},
     "output_type": "execute_result"
    }
   ],
   "source": [
    "pibo(6)"
   ]
  },
  {
   "cell_type": "markdown",
   "id": "da2a9d30-7839-4133-9a6f-4a56c811dec8",
   "metadata": {},
   "source": [
    "## 8-4 피보나치 수열 소스코드(반복적)"
   ]
  },
  {
   "cell_type": "code",
   "execution_count": 22,
   "id": "95bce84c-279b-4fef-971d-95eb4f2769fa",
   "metadata": {},
   "outputs": [
    {
     "name": "stdout",
     "output_type": "stream",
     "text": [
      "218922995834555169026\n"
     ]
    }
   ],
   "source": [
    "d = [0] * 100\n",
    "\n",
    "d[1] = 1\n",
    "d[2] = 1\n",
    "n = 99\n",
    "\n",
    "for i in range(3, n + 1):\n",
    "    d[i] = d[i -1] + d[i -2]\n",
    "    \n",
    "print(d[n])"
   ]
  },
  {
   "cell_type": "markdown",
   "id": "9ac2895a-9719-47ae-aa79-963bf8a8d000",
   "metadata": {},
   "source": [
    "---"
   ]
  },
  {
   "cell_type": "markdown",
   "id": "1041c707-c07a-4950-932a-562ea3a00e9f",
   "metadata": {},
   "source": [
    "# 실전 문제"
   ]
  },
  {
   "cell_type": "markdown",
   "id": "8e637e1d-c71b-4b9b-a93d-f885019e066c",
   "metadata": {},
   "source": [
    "### 1. 1로 만들기"
   ]
  },
  {
   "cell_type": "markdown",
   "id": "491c9822-740e-4462-9f71-de2e4fd9e808",
   "metadata": {},
   "source": [
    "정수 X가 주어질 때 정수 X에 사용할 수 있는 연산은 다음과 같이 4가지이다.  \n",
    "&nbsp; a. X가 5로 나누어 떨어지면, 5로 나눈다.  \n",
    "&nbsp; b. X가 3으로 나누어 떨어지면, 3으로 나눈다.   \n",
    "&nbsp; c. X가 2로 나누어 떨어지면, 2로 나눈다.  \n",
    "&nbsp; d. X에서 1을 뺀다.  "
   ]
  },
  {
   "cell_type": "markdown",
   "id": "5629c2a6-1504-43ba-afb2-edc1287e6ab9",
   "metadata": {},
   "source": [
    "정수 X 가 주어졌을 때, 연산 4개를 적절하 사용해서 1을 만들려고 한다. 연산을 사용하는 횟수의 최솟값을 출력하시오."
   ]
  },
  {
   "cell_type": "markdown",
   "id": "9298fab9-d344-4b5d-b23f-b29a80847ac3",
   "metadata": {},
   "source": [
    "<b>입력조건</b>  \n",
    "- 첫째 줄에 정수 X가 주어진다. (1<= X <= 30,000) \n",
    "\n",
    "<b>출력조건</b>\n",
    "- 첫째 줄에 연산을 하는 횟수의 최솟값을 출력한다."
   ]
  },
  {
   "cell_type": "code",
   "execution_count": 8,
   "id": "2944d8b9-15f1-40b9-a761-988f7d816059",
   "metadata": {},
   "outputs": [
    {
     "name": "stdin",
     "output_type": "stream",
     "text": [
      " 6\n"
     ]
    },
    {
     "name": "stdout",
     "output_type": "stream",
     "text": [
      "시작 : 2 | [0, 0, 0, 0, 0, 0, 0]\n",
      "삽입 : 2 | [0, 0, 1, 0, 0, 0, 0]\n",
      "변경 : 2 | [0, 0, 1, 0, 0, 0, 0]\n",
      "시작 : 3 | [0, 0, 1, 0, 0, 0, 0]\n",
      "삽입 : 3 | [0, 0, 1, 2, 0, 0, 0]\n",
      "변경 : 3 | [0, 0, 1, 1, 0, 0, 0]\n",
      "시작 : 4 | [0, 0, 1, 1, 0, 0, 0]\n",
      "삽입 : 4 | [0, 0, 1, 1, 2, 0, 0]\n",
      "변경 : 4 | [0, 0, 1, 1, 2, 0, 0]\n",
      "시작 : 5 | [0, 0, 1, 1, 2, 0, 0]\n",
      "삽입 : 5 | [0, 0, 1, 1, 2, 3, 0]\n",
      "변경 : 5 | [0, 0, 1, 1, 2, 1, 0]\n",
      "시작 : 6 | [0, 0, 1, 1, 2, 1, 0]\n",
      "삽입 : 6 | [0, 0, 1, 1, 2, 1, 2]\n",
      "변경 : 6 | [0, 0, 1, 1, 2, 1, 2]\n",
      "2\n"
     ]
    }
   ],
   "source": [
    "x = int(input())\n",
    "\n",
    "d = [0] * 30001\n",
    "\n",
    "for i in range(2, x + 1):\n",
    "    print('시작 : {} | {}'.format(i, d[:x+1]))\n",
    "    d[i] = d[i - 1] + 1\n",
    "    print('삽입 : {} | {}'.format(i, d[:x+1]))\n",
    "    if i % 2 == 0:\n",
    "        d[i] = min(d[i], d[i // 2] + 1)\n",
    "    \n",
    "    if i % 3 == 0:\n",
    "        d[i] = min(d[i], d[i // 3] + 1)\n",
    "\n",
    "    if i % 5 == 0:\n",
    "        d[i] = min(d[i], d[i // 5] + 1)\n",
    "    \n",
    "    print('변경 : {} | {}'.format(i, d[:x+1]))\n",
    "\n",
    "print(d[x])"
   ]
  },
  {
   "cell_type": "code",
   "execution_count": 9,
   "id": "e1635b16-620c-41ed-9801-d76804682501",
   "metadata": {},
   "outputs": [
    {
     "name": "stdout",
     "output_type": "stream",
     "text": [
      "2\n"
     ]
    }
   ],
   "source": [
    "for i in range(2,3):\n",
    "    print(i)"
   ]
  },
  {
   "cell_type": "markdown",
   "id": "9f11f4e8-4c62-404b-83b4-ab18f71de393",
   "metadata": {},
   "source": [
    "## 2. 개미 전사"
   ]
  },
  {
   "cell_type": "markdown",
   "id": "76a350aa-8771-422f-9f5b-b4d6578e27fe",
   "metadata": {},
   "source": [
    "<b>입력 조건</b>  \n",
    "- 첫째 줄에 식량 창고의 개수 N이 주어진다. (3<= N <= 100)  \n",
    "- 둘째 줄에 공백으로 구분되어 각 식량창고에 저장된 식량의 개수 K가 주어진다. (0 <= K <= 1000)"
   ]
  },
  {
   "cell_type": "markdown",
   "id": "ccad95c8-b716-40d4-817c-26abd2f9eb7a",
   "metadata": {},
   "source": [
    "<b>출력 조건</b>  \n",
    "- 첫째 줄에 개미 전사가 얻을 수 있는 식량의 최댓값을 출력하시오."
   ]
  },
  {
   "cell_type": "code",
   "execution_count": 10,
   "id": "4758d3ad-3d40-433c-bfff-c18723fc6155",
   "metadata": {},
   "outputs": [
    {
     "name": "stdin",
     "output_type": "stream",
     "text": [
      " 4\n",
      " 1 3 1 5\n"
     ]
    },
    {
     "name": "stdout",
     "output_type": "stream",
     "text": [
      "8\n"
     ]
    }
   ],
   "source": [
    "n = int(input())\n",
    "\n",
    "array = list(map(int, input().split()))\n",
    "\n",
    "d = [0] * 100\n",
    "\n",
    "d[0] = array[0]\n",
    "d[1] = max(array[0], array[1])\n",
    "for i in range(2, n):\n",
    "    d[i] = max(d[i - 1], d[i - 2] + array[i])\n",
    "\n",
    "print(d[n - 1])"
   ]
  },
  {
   "cell_type": "markdown",
   "id": "c87e8039-c5a9-42cf-9d23-b4b67b114795",
   "metadata": {},
   "source": [
    "## 3. 바닥 공사"
   ]
  },
  {
   "cell_type": "markdown",
   "id": "08778de5-1f7c-451e-9122-664b9159e578",
   "metadata": {},
   "source": [
    "<b> 입력 조건 </b>  \n",
    "- 첫째 줄에 N이 주어진다. (1<= N <= 1,000)"
   ]
  },
  {
   "cell_type": "markdown",
   "id": "0e9c0eb1-d6d1-4760-b428-595251f8019f",
   "metadata": {},
   "source": [
    "<b> 출력 조건 </b>  \n",
    "- 첫째 줄에 2 * N의 크기의 바닥을 채우는 방법의 수를 796,796으로 나눈 나머지를 출력한다."
   ]
  },
  {
   "cell_type": "code",
   "execution_count": 12,
   "id": "eb79e539-f8b5-46e6-8aac-1a8679682d58",
   "metadata": {},
   "outputs": [
    {
     "name": "stdin",
     "output_type": "stream",
     "text": [
      " 3\n"
     ]
    },
    {
     "name": "stdout",
     "output_type": "stream",
     "text": [
      "5\n"
     ]
    }
   ],
   "source": [
    "n = int(input())\n",
    "\n",
    "d = [0] * 1001\n",
    "\n",
    "d[1] = 1\n",
    "d[2] = 3\n",
    "for i in range(3, n + 1):\n",
    "    d[i] = (d[i - 1] + 2 * d[i - 2]) % 796796\n",
    "            \n",
    "print(d[n])"
   ]
  },
  {
   "cell_type": "code",
   "execution_count": null,
   "id": "38f2be2f-4926-43e2-967d-7143743054de",
   "metadata": {},
   "outputs": [],
   "source": []
  },
  {
   "cell_type": "markdown",
   "id": "b76e67e1-8cb9-4924-83d9-71978303e28f",
   "metadata": {},
   "source": [
    "## 4. 효율적인 화폐구성"
   ]
  },
  {
   "cell_type": "markdown",
   "id": "1dbaac3e-a495-4be1-a11a-32d8278464dc",
   "metadata": {},
   "source": [
    "<b> 입력 조건 </b>  \n",
    "- 첫째 줄에 N이 주어진다. (1<= N <= 1,000, 1 <= M <= 10,000)\n",
    "- 이후 N개의 줄에는 각 화폐의 가치가 주어진다. 화폐 가치는 10,000 보다 작거나 같은 자연수이다."
   ]
  },
  {
   "cell_type": "markdown",
   "id": "b28d57bf-a405-4097-b188-a54a54766c08",
   "metadata": {},
   "source": [
    "<b> 출력 조건 </b>  \n",
    "- 첫째 줄에 M원을 만들기 위한 최소한의 화폐 개수를 출력한다.\n",
    "- 불가능 할 때는 -1을 출력한다."
   ]
  },
  {
   "cell_type": "code",
   "execution_count": 1,
   "id": "c7d26a4d-fa49-42de-8079-9dd30c9fe620",
   "metadata": {},
   "outputs": [
    {
     "name": "stdin",
     "output_type": "stream",
     "text": [
      " 2 15\n",
      " 2\n",
      " 3\n"
     ]
    },
    {
     "name": "stdout",
     "output_type": "stream",
     "text": [
      "5\n"
     ]
    }
   ],
   "source": [
    "n, m = map(int, input().split())\n",
    "\n",
    "array = []\n",
    "for i in range(n):\n",
    "    array.append(int(input()))\n",
    "\n",
    "d = [10001] * (m + 1)\n",
    "d[0] = 0\n",
    "\n",
    "for i in range(n):\n",
    "    for j in range(array[i], m + 1):\n",
    "        if d[j - array[i]] != 10001:\n",
    "            d[j] = min(d[j], d[j - array[i]] + 1)\n",
    "\n",
    "if d[m] == 10001:\n",
    "    print(-1)\n",
    "else:\n",
    "    print(d[m])"
   ]
  },
  {
   "cell_type": "code",
   "execution_count": 2,
   "id": "5946d7ce-567f-46bb-942f-0e3a5cecea7d",
   "metadata": {},
   "outputs": [
    {
     "name": "stdin",
     "output_type": "stream",
     "text": [
      " 3 4\n",
      " 3\n",
      " 5\n",
      " 7\n"
     ]
    },
    {
     "name": "stdout",
     "output_type": "stream",
     "text": [
      "-1\n"
     ]
    }
   ],
   "source": [
    "n, m = map(int, input().split())\n",
    "\n",
    "array = []\n",
    "for i in range(n):\n",
    "    array.append(int(input()))\n",
    "\n",
    "d = [10001] * (m + 1)\n",
    "d[0] = 0\n",
    "\n",
    "for i in range(n):\n",
    "    for j in range(array[i], m + 1):\n",
    "        if d[j - array[i]] != 10001:\n",
    "            d[j] = min(d[j], d[j - array[i]] + 1)\n",
    "\n",
    "if d[m] == 10001:\n",
    "    print(-1)\n",
    "else:\n",
    "    print(d[m])"
   ]
  },
  {
   "cell_type": "code",
   "execution_count": null,
   "id": "36773088-c786-43ba-b519-32a55d768c9a",
   "metadata": {},
   "outputs": [],
   "source": []
  }
 ],
 "metadata": {
  "kernelspec": {
   "display_name": "Python 3 (ipykernel)",
   "language": "python",
   "name": "python3"
  },
  "language_info": {
   "codemirror_mode": {
    "name": "ipython",
    "version": 3
   },
   "file_extension": ".py",
   "mimetype": "text/x-python",
   "name": "python",
   "nbconvert_exporter": "python",
   "pygments_lexer": "ipython3",
   "version": "3.7.0"
  }
 },
 "nbformat": 4,
 "nbformat_minor": 5
}
