{
 "cells": [
  {
   "cell_type": "markdown",
   "id": "2936754b-7f7e-41e2-917f-6ac6597efb6a",
   "metadata": {},
   "source": [
    "# 6-1. 선택 정렬 소스코드"
   ]
  },
  {
   "cell_type": "code",
   "execution_count": 2,
   "id": "80f99790-a16f-45c4-919c-d2862246f872",
   "metadata": {},
   "outputs": [
    {
     "name": "stdout",
     "output_type": "stream",
     "text": [
      "[0, 1, 2, 3, 5, 6, 7, 8, 4, 9]\n"
     ]
    }
   ],
   "source": [
    "array = [7, 5, 9, 0, 3, 1, 6, 2, 4, 8]\n",
    "\n",
    "for i in range(len(array)):\n",
    "    min_index = i\n",
    "    for j in range(i + 1, len(array)):\n",
    "        if array[min_index] > array[j]:\n",
    "            min_index = j\n",
    "        array[i], array[min_index] = array[min_index], array[i]\n",
    "\n",
    "print(array)\n",
    "               "
   ]
  },
  {
   "cell_type": "markdown",
   "id": "faaf6d18-de1c-47b3-a855-384bbdb312ab",
   "metadata": {},
   "source": [
    "# 6-2. 파이썬 스와프(Swap) 소스코드"
   ]
  },
  {
   "cell_type": "code",
   "execution_count": 3,
   "id": "c8adf16c-0e51-4132-bbe3-ffd719fb5075",
   "metadata": {},
   "outputs": [
    {
     "name": "stdout",
     "output_type": "stream",
     "text": [
      "[5, 3]\n"
     ]
    }
   ],
   "source": [
    "array = [3, 5]\n",
    "array[0], array[1] = array[1], array[0]\n",
    "\n",
    "print(array)"
   ]
  },
  {
   "cell_type": "markdown",
   "id": "acdc3080-f6d8-4def-87ed-a84a9456aa3b",
   "metadata": {},
   "source": [
    "# 6-3 삽입 정렬 소스코드"
   ]
  },
  {
   "cell_type": "code",
   "execution_count": 4,
   "id": "07852beb-60f0-4515-9764-02b151b6aa54",
   "metadata": {},
   "outputs": [
    {
     "name": "stdout",
     "output_type": "stream",
     "text": [
      "[0, 1, 2, 3, 4, 5, 6, 7, 8, 9]\n"
     ]
    }
   ],
   "source": [
    "array = [7, 5, 9, 0, 3, 1, 6, 2, 4, 8]\n",
    "\n",
    "for i in range(1, len(array)):\n",
    "    for j in range(i, 0, -1):\n",
    "        if array[j] < array[j - 1]:\n",
    "            array[j], array[j - 1] = array[j - 1], array[j]\n",
    "        else:\n",
    "            break\n",
    "\n",
    "print(array)"
   ]
  },
  {
   "cell_type": "markdown",
   "id": "103d07d6-2a6b-4251-b30b-03fcdc4b8a46",
   "metadata": {},
   "source": [
    "# 6-4 퀵 정렬 소스코드"
   ]
  },
  {
   "cell_type": "code",
   "execution_count": 1,
   "id": "130337a3-9344-4f2d-b7d4-6ed39673fcfa",
   "metadata": {},
   "outputs": [
    {
     "name": "stdout",
     "output_type": "stream",
     "text": [
      "[5, 4, 9, 0, 3, 1, 6, 2, 7, 8]\n",
      "[5, 4, 2, 0, 3, 1, 6, 9, 7, 8]\n",
      "[1, 4, 2, 0, 3, 5, 6, 9, 7, 8]\n",
      "[1, 0, 2, 4, 3, 5, 6, 9, 7, 8]\n",
      "[0, 1, 2, 4, 3, 5, 6, 9, 7, 8]\n",
      "[0, 1, 2, 4, 3, 5, 6, 9, 7, 8]\n",
      "[0, 1, 2, 3, 4, 5, 6, 9, 7, 8]\n",
      "[0, 1, 2, 3, 4, 5, 6, 9, 7, 8]\n",
      "[0, 1, 2, 3, 4, 5, 6, 8, 7, 9]\n",
      "[0, 1, 2, 3, 4, 5, 6, 7, 8, 9]\n",
      "[0, 1, 2, 3, 4, 5, 6, 7, 8, 9]\n"
     ]
    }
   ],
   "source": [
    "array = [5, 7, 9, 0, 3, 1, 6, 2, 4, 8]\n",
    "\n",
    "def quick_sort(array, start, end):\n",
    "    if start >= end:\n",
    "        return\n",
    "    pivot = start\n",
    "    left = start + 1\n",
    "    right = end\n",
    "    while left <= right:\n",
    "        while left <= end and array[left] <= array[pivot]:\n",
    "            left += 1\n",
    "        while right > start and array[right] >= array[pivot]:\n",
    "            right -= 1\n",
    "        if left > right:\n",
    "            array[right], array[pivot] = array[pivot], array[right]\n",
    "        else:\n",
    "            array[left], array[right] = array[right], array[left]\n",
    "        print(array)\n",
    "    quick_sort(array, start, right - 1)\n",
    "    quick_sort(array, right + 1, end)\n",
    "\n",
    "quick_sort(array, 0, len(array) - 1)\n",
    "print(array)\n",
    "            "
   ]
  },
  {
   "cell_type": "markdown",
   "id": "be7925a3-ab9c-499c-822f-981fc6975fb7",
   "metadata": {},
   "source": [
    "# 6-5 파이썬의 장점을 살린 퀵 정렬 소스코드"
   ]
  },
  {
   "cell_type": "code",
   "execution_count": 2,
   "id": "e4f754ed-19bb-4048-82a6-59cc675e65b8",
   "metadata": {},
   "outputs": [
    {
     "name": "stdout",
     "output_type": "stream",
     "text": [
      "[0, 1, 2, 3, 4, 5, 6, 7, 8, 9]\n"
     ]
    }
   ],
   "source": [
    "array = [5, 7, 9, 0, 3, 1, 6, 2, 4, 8]\n",
    "\n",
    "def quick_sort(array):\n",
    "    if len(array) <= 1:\n",
    "        return array\n",
    "    \n",
    "    pivot = array[0]\n",
    "    tail = array[1:]\n",
    "    \n",
    "    left_side = [x for x in tail if x <= pivot]\n",
    "    right_side = [x for x in tail if x > pivot]\n",
    "    \n",
    "    return quick_sort(left_side) + [pivot] + quick_sort(right_side)\n",
    "\n",
    "print(quick_sort(array))"
   ]
  },
  {
   "cell_type": "code",
   "execution_count": 4,
   "id": "4b6732b5-a0b3-4279-82e7-1508bf1316ba",
   "metadata": {},
   "outputs": [
    {
     "data": {
      "text/plain": [
       "[0, 1, 2, 3, 4, 5, 6, 7, 8, 9]"
      ]
     },
     "execution_count": 4,
     "metadata": {},
     "output_type": "execute_result"
    }
   ],
   "source": [
    "[0, 1, 2, 3, 4] + [5] +[6, 7, 8, 9]"
   ]
  },
  {
   "cell_type": "markdown",
   "id": "6ab82f96-af60-4bb9-b6b0-c790c5bf7ea8",
   "metadata": {},
   "source": [
    "# 6-6 계수 정렬 소스코드"
   ]
  },
  {
   "cell_type": "code",
   "execution_count": 7,
   "id": "f3bd2993-c85e-4b5e-8cb8-27b0e13701dd",
   "metadata": {},
   "outputs": [
    {
     "name": "stdout",
     "output_type": "stream",
     "text": [
      "0 0 1 1 2 2 3 4 5 5 6 7 8 9 9 "
     ]
    }
   ],
   "source": [
    "array = [7, 5, 9, 0, 3, 1, 6, 2, 9, 1, 4, 8, 0, 5, 2]\n",
    "\n",
    "count = [0] * (max(array) + 1)\n",
    "\n",
    "for i in range(len(array)):\n",
    "    count[array[i]] += 1\n",
    "\n",
    "for i in range(len(count)):\n",
    "    for j in range(count[i]):\n",
    "        print(i, end=' ')"
   ]
  },
  {
   "cell_type": "code",
   "execution_count": 6,
   "id": "c38e0d63-5147-4149-9c7b-fc61cb099ded",
   "metadata": {},
   "outputs": [
    {
     "data": {
      "text/plain": [
       "[0, 0, 0, 0, 0, 0, 0, 0, 0, 0]"
      ]
     },
     "execution_count": 6,
     "metadata": {},
     "output_type": "execute_result"
    }
   ],
   "source": [
    "[0] * (max(array) + 1)"
   ]
  },
  {
   "cell_type": "code",
   "execution_count": 8,
   "id": "c3dd92e2-47ee-4d59-b1b3-098fd3f2ee48",
   "metadata": {},
   "outputs": [
    {
     "data": {
      "text/plain": [
       "[2, 2, 2, 1, 1, 2, 1, 1, 1, 2]"
      ]
     },
     "execution_count": 8,
     "metadata": {},
     "output_type": "execute_result"
    }
   ],
   "source": [
    "count"
   ]
  },
  {
   "cell_type": "markdown",
   "id": "d8d60dd6-f1fe-4e27-85bd-186a9fecf71d",
   "metadata": {},
   "source": [
    "# 6-7 sorted 소스코드"
   ]
  },
  {
   "cell_type": "code",
   "execution_count": 9,
   "id": "5e60bd9b-b89f-421d-a847-782b513e32d7",
   "metadata": {},
   "outputs": [],
   "source": [
    "array = [7, 5, 9, 0, 3, 1, 6, 2, 4, 8]"
   ]
  },
  {
   "cell_type": "code",
   "execution_count": 10,
   "id": "c92f82e9-b646-46e7-a362-1280316a44a1",
   "metadata": {},
   "outputs": [
    {
     "name": "stdout",
     "output_type": "stream",
     "text": [
      "[0, 1, 2, 3, 4, 5, 6, 7, 8, 9]\n"
     ]
    }
   ],
   "source": [
    "result = sorted(array)\n",
    "print(result)"
   ]
  },
  {
   "cell_type": "markdown",
   "id": "5f133ef2-d0a8-4627-a0e6-81103f227743",
   "metadata": {},
   "source": [
    "# 6-8 sort 소스코드"
   ]
  },
  {
   "cell_type": "code",
   "execution_count": 11,
   "id": "ebcbbc81-a307-4519-8f2c-cfe972033f24",
   "metadata": {},
   "outputs": [],
   "source": [
    "array = [7, 5, 9, 0, 3, 1, 6, 2, 4, 8]"
   ]
  },
  {
   "cell_type": "code",
   "execution_count": 12,
   "id": "61599bc5-3038-40cc-abcb-6fbc859e015d",
   "metadata": {},
   "outputs": [
    {
     "name": "stdout",
     "output_type": "stream",
     "text": [
      "[0, 1, 2, 3, 4, 5, 6, 7, 8, 9]\n"
     ]
    }
   ],
   "source": [
    "array.sort()\n",
    "print(array)"
   ]
  },
  {
   "cell_type": "markdown",
   "id": "089b21f0-b138-47d2-9909-82d4958942ef",
   "metadata": {},
   "source": [
    "# 6-9 정렬 라이브러리에서 key를 활용한 소스코드"
   ]
  },
  {
   "cell_type": "code",
   "execution_count": 17,
   "id": "c89655b9-f42e-41c2-aa64-471788a781e4",
   "metadata": {},
   "outputs": [
    {
     "name": "stdout",
     "output_type": "stream",
     "text": [
      "[('바나나', 2), ('당근', 3), ('사과', 5)]\n"
     ]
    }
   ],
   "source": [
    "array = [('바나나', 2), ('사과', 5), ('당근', 3)]\n",
    "\n",
    "def setting(data):\n",
    "    return data[1]\n",
    "\n",
    "result = sorted(array, key=setting)\n",
    "print(result)"
   ]
  },
  {
   "cell_type": "code",
   "execution_count": 19,
   "id": "23d8ce28-835e-4744-a9d2-7a1fcb578201",
   "metadata": {},
   "outputs": [
    {
     "data": {
      "text/plain": [
       "('사과', 5)"
      ]
     },
     "execution_count": 19,
     "metadata": {},
     "output_type": "execute_result"
    }
   ],
   "source": [
    "setting(array) #이게 아님"
   ]
  },
  {
   "cell_type": "code",
   "execution_count": 20,
   "id": "496e9430-c4fc-4ff2-b59f-b11396865f1c",
   "metadata": {},
   "outputs": [
    {
     "data": {
      "text/plain": [
       "2"
      ]
     },
     "execution_count": 20,
     "metadata": {},
     "output_type": "execute_result"
    }
   ],
   "source": [
    "setting(array[0])"
   ]
  },
  {
   "cell_type": "markdown",
   "id": "07639344-75a7-4364-bc5a-240ad1043448",
   "metadata": {},
   "source": [
    "---"
   ]
  },
  {
   "cell_type": "markdown",
   "id": "ebede9a7-a8cf-4e8c-a712-e059c104d7c8",
   "metadata": {},
   "source": [
    "# 실전문제"
   ]
  },
  {
   "cell_type": "markdown",
   "id": "7660a7e6-c62d-4253-a18a-3d48cac04929",
   "metadata": {},
   "source": [
    "## 1. 위에서 아래로"
   ]
  },
  {
   "cell_type": "markdown",
   "id": "934af044-0e09-4e99-b6a2-4653b26e539c",
   "metadata": {},
   "source": [
    "### 입력조건 \n",
    "- 첫째 줄에 수열에 속해 있는 수의 개수 N이 주어진다.(1<= N <= 500)\n",
    "- 둘째 줄부터 N + 1 번째 줄까지 N개의 수가 입력된다. 수의 범위는 1 이상 100,000 이하의 자연수이다."
   ]
  },
  {
   "cell_type": "markdown",
   "id": "cff35a87-3732-44bb-ab5e-fdc68ee5003a",
   "metadata": {},
   "source": [
    "### 출력 조건\n",
    "- 입력으로 주어진 수열이 내림차순으로 정렬된 결과를 공백으로 구분하여 출력한다. 동일한 수의 순서는 자유롭게 출력해도 괜찮다."
   ]
  },
  {
   "cell_type": "code",
   "execution_count": 21,
   "id": "497ee5a4-922b-4b75-af90-db392634c0da",
   "metadata": {},
   "outputs": [
    {
     "name": "stdin",
     "output_type": "stream",
     "text": [
      " 3\n",
      " 15\n",
      " 27\n",
      " 12\n"
     ]
    },
    {
     "name": "stdout",
     "output_type": "stream",
     "text": [
      "27 15 12 "
     ]
    }
   ],
   "source": [
    "n = int(input())\n",
    "\n",
    "array = []\n",
    "for i in range(n):\n",
    "    array.append(int(input()))\n",
    "\n",
    "array = sorted(array, reverse=True)\n",
    "\n",
    "for i in array:\n",
    "    print(i, end = ' ')"
   ]
  },
  {
   "cell_type": "markdown",
   "id": "58e88087-1c03-487f-80fd-5d986d7e31ff",
   "metadata": {},
   "source": [
    "---"
   ]
  },
  {
   "cell_type": "markdown",
   "id": "cb79f7e6-a67d-4928-977d-fb15b4710b3f",
   "metadata": {},
   "source": [
    "## 2. 성적이 낮은 순서대로 학생 출력하기"
   ]
  },
  {
   "cell_type": "markdown",
   "id": "f491dcbb-6583-4ccf-8743-e48f6dd38911",
   "metadata": {},
   "source": [
    "### 입력 조건\n",
    "- 첫 번째 줄에 학생의 수 N이 입력된다. ( 1 <= N <= 100,000)\n",
    "- 두 번째 줄부터 N + 1 번째 줄에는 학생의 이름을 나타내는 문자열 A와 학생의 성적을 나타내는 정수 B가 공백으로 구분되어 입력된다. 문자열 A의 길이와 학생의 성적은 100이하의 자연수이다. "
   ]
  },
  {
   "cell_type": "markdown",
   "id": "5c247215-45a2-4b59-9c8c-175f8b61a50f",
   "metadata": {},
   "source": [
    "### 출력 조건\n",
    "- 모든 학생의 이름을 성적이 낮은 순서대로 출력한다. 성적이 동일한 학생들의 순서는 자유롭게 출력해도 괜찮다."
   ]
  },
  {
   "cell_type": "code",
   "execution_count": 4,
   "id": "750a8b97-92d1-43ac-b152-200409006345",
   "metadata": {},
   "outputs": [
    {
     "name": "stdin",
     "output_type": "stream",
     "text": [
      " 2\n",
      " 홍길동 95\n",
      " 이순신 77\n"
     ]
    },
    {
     "name": "stdout",
     "output_type": "stream",
     "text": [
      "이순신 홍길동 "
     ]
    }
   ],
   "source": [
    "n = int(input())\n",
    "\n",
    "array = []\n",
    "for i in range(n):\n",
    "    input_data = input().split()\n",
    "    array.append((input_data[0], int(input_data[1])))\n",
    "\n",
    "array = sorted(array, key=lambda student: student[1])\n",
    "\n",
    "for student in array:\n",
    "    print(student[0], end = ' ')"
   ]
  },
  {
   "cell_type": "markdown",
   "id": "bdeaab29-3863-44b2-ab0a-15cf94f0fc5e",
   "metadata": {},
   "source": [
    "---"
   ]
  },
  {
   "cell_type": "markdown",
   "id": "3c1336e4-db54-406f-811e-c3855962dc83",
   "metadata": {},
   "source": [
    "## 3. 두 배열의 원소 교체"
   ]
  },
  {
   "cell_type": "markdown",
   "id": "6fd04c32-a466-4693-8c85-e113bd05eb37",
   "metadata": {},
   "source": [
    "### 입력 조건\n",
    "- 첫 번째 줄에 N, K가 공백으로 구분되어 입력된다. (1 <= N <= 100,000, 0 <=K, N)\n",
    "- 두 번째 줄에 배열 A의 원소들이 공백으로 구분되어 입력된다. 모든 원소는 10,000,000보다 작은 자연수이다.\n",
    "- 세 번째 줄에 배열 B의 원소들이 공백으로 구분되어 입력된다. 모든 원소는 10,000,000보다 작은 자연수이다."
   ]
  },
  {
   "cell_type": "markdown",
   "id": "07689356-a865-47e0-9ef4-31adfdf7f3fb",
   "metadata": {},
   "source": [
    "### 출력 조건\n",
    "- 최대 K번의 바꿔치기 연산을 수행하여 만들 수 있는 배열 A의 모든 원소의 합의 최댓값을 출력한다."
   ]
  },
  {
   "cell_type": "code",
   "execution_count": 5,
   "id": "048bad41-7826-466d-a89c-a69987846eac",
   "metadata": {},
   "outputs": [
    {
     "name": "stdin",
     "output_type": "stream",
     "text": [
      " 5 3\n",
      " 1 2 5 4 3\n",
      " 5 5 6 6 5\n"
     ]
    },
    {
     "name": "stdout",
     "output_type": "stream",
     "text": [
      "26\n"
     ]
    }
   ],
   "source": [
    "n, k = map(int, input().split())\n",
    "a = list(map(int, input().split()))\n",
    "b = list(map(int, input().split()))\n",
    "\n",
    "a.sort()\n",
    "b.sort(reverse=True)\n",
    "\n",
    "for i in range(k):\n",
    "    if a[i] < b[i]:\n",
    "        a[i], b[i] = b[i], a[i]\n",
    "    else:\n",
    "        break\n",
    "        \n",
    "print(sum(a))"
   ]
  },
  {
   "cell_type": "code",
   "execution_count": null,
   "id": "8ff6f36e-e427-402d-bc82-4227b2bb33cb",
   "metadata": {},
   "outputs": [],
   "source": []
  }
 ],
 "metadata": {
  "kernelspec": {
   "display_name": "Python 3",
   "language": "python",
   "name": "python3"
  },
  "language_info": {
   "codemirror_mode": {
    "name": "ipython",
    "version": 3
   },
   "file_extension": ".py",
   "mimetype": "text/x-python",
   "name": "python",
   "nbconvert_exporter": "python",
   "pygments_lexer": "ipython3",
   "version": "3.8.5"
  }
 },
 "nbformat": 4,
 "nbformat_minor": 5
}
