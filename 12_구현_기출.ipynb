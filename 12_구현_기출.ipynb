{
 "cells": [
  {
   "cell_type": "markdown",
   "id": "a34ce62e",
   "metadata": {},
   "source": [
    "# A 07 럭키 스트레이트"
   ]
  },
  {
   "cell_type": "markdown",
   "id": "5435aafc",
   "metadata": {},
   "source": [
    "내 풀이"
   ]
  },
  {
   "cell_type": "code",
   "execution_count": 10,
   "id": "22fc2105",
   "metadata": {},
   "outputs": [
    {
     "name": "stdout",
     "output_type": "stream",
     "text": [
      "123402\n",
      "LUCKY\n"
     ]
    }
   ],
   "source": [
    "n_list = list(map(int, input()))\n",
    "\n",
    "l = len(n_list)\n",
    "\n",
    "left = sum(n_list[:l//2])    \n",
    "right = sum(n_list[l//2:])\n",
    "\n",
    "if left == right:\n",
    "    print('LUCKY')\n",
    "else : \n",
    "    print('READY')"
   ]
  },
  {
   "cell_type": "code",
   "execution_count": 9,
   "id": "33d8f4a2",
   "metadata": {},
   "outputs": [
    {
     "name": "stdout",
     "output_type": "stream",
     "text": [
      "7755\n",
      "READY\n"
     ]
    }
   ],
   "source": [
    "n_list = list(map(int, input()))\n",
    "\n",
    "l = len(n_list)\n",
    "\n",
    "left = sum(n_list[:l//2])    \n",
    "right = sum(n_list[l//2:])\n",
    "\n",
    "if left == right:\n",
    "    print('LUCKY')\n",
    "else : \n",
    "    print('READY')"
   ]
  },
  {
   "cell_type": "markdown",
   "id": "f56119c1",
   "metadata": {},
   "source": [
    "모범 답안"
   ]
  },
  {
   "cell_type": "code",
   "execution_count": 12,
   "id": "191e0e1c",
   "metadata": {},
   "outputs": [
    {
     "name": "stdout",
     "output_type": "stream",
     "text": [
      "132402\n",
      "LUCKEY\n"
     ]
    }
   ],
   "source": [
    "n = input()\n",
    "length = len(n)\n",
    "summary = 0\n",
    "\n",
    "for i in range(length // 2):\n",
    "    summary += int(n[i])\n",
    "\n",
    "for i in range(length // 2, length):\n",
    "    summary -= int(n[i])\n",
    "    \n",
    "if summary == 0:\n",
    "    print(\"LUCKEY\")\n",
    "else:\n",
    "    print(\"READY\")"
   ]
  },
  {
   "cell_type": "markdown",
   "id": "560cfa91",
   "metadata": {},
   "source": [
    "# A 08 문자열 재정렬"
   ]
  },
  {
   "cell_type": "markdown",
   "id": "3a1c8548",
   "metadata": {},
   "source": [
    "내 풀이"
   ]
  },
  {
   "cell_type": "code",
   "execution_count": 57,
   "id": "f83d45fa",
   "metadata": {},
   "outputs": [
    {
     "name": "stdout",
     "output_type": "stream",
     "text": [
      "K1KA5CB7\n",
      "ABCKK13\n"
     ]
    }
   ],
   "source": [
    "input_list = list(input())\n",
    "#input_list=list('K1KA5CB7')\n",
    "input_list.sort()\n",
    "tmp = 0\n",
    "idx = 0\n",
    "for i in input_list:\n",
    "    if ord(i)>= 48 and ord(i)<= 57:\n",
    "        tmp += int(i)\n",
    "        idx+=1\n",
    "\n",
    "final = ''.join(input_list)[idx:]+str(tmp)\n",
    "print(final)"
   ]
  },
  {
   "cell_type": "code",
   "execution_count": 60,
   "id": "3d103cc7",
   "metadata": {},
   "outputs": [
    {
     "name": "stdout",
     "output_type": "stream",
     "text": [
      "AJKDLSI412K4JSJ9D\n",
      "ADDIJJJKKLSS20\n"
     ]
    }
   ],
   "source": [
    "input_list = list(input())\n",
    "#input_list=list('K1KA5CB7')\n",
    "input_list.sort()\n",
    "tmp = 0\n",
    "idx = 0\n",
    "for i in input_list:\n",
    "    if ord(i)>= 48 and ord(i)<= 57:\n",
    "        tmp += int(i)\n",
    "        idx+=1\n",
    "\n",
    "final = ''.join(input_list)[idx:]+str(tmp)\n",
    "print(final)"
   ]
  },
  {
   "cell_type": "markdown",
   "id": "64c5a97d",
   "metadata": {},
   "source": [
    "모범 답안"
   ]
  },
  {
   "cell_type": "code",
   "execution_count": 59,
   "id": "2f75d04c",
   "metadata": {},
   "outputs": [
    {
     "name": "stdout",
     "output_type": "stream",
     "text": [
      "K1KA5CB7\n",
      "ABCKK13\n"
     ]
    }
   ],
   "source": [
    "data = input()\n",
    "result = []\n",
    "value = 0\n",
    "\n",
    "for x in data:\n",
    "    if x.isalpha():\n",
    "        result.append(x)\n",
    "    else:\n",
    "        value+= int(x)\n",
    "        \n",
    "result.sort()\n",
    "\n",
    "if value != 0:\n",
    "    result.append(str(value))\n",
    "    \n",
    "print(''.join(result))"
   ]
  },
  {
   "cell_type": "markdown",
   "id": "b0328461",
   "metadata": {},
   "source": [
    "# A 09 문자열 압축"
   ]
  },
  {
   "cell_type": "markdown",
   "id": "2fb0a867",
   "metadata": {},
   "source": [
    "내 풀이"
   ]
  },
  {
   "cell_type": "code",
   "execution_count": 137,
   "id": "ca5c8fb4",
   "metadata": {},
   "outputs": [],
   "source": [
    "def solution(s):\n",
    "    len_s = len(s)\n",
    "    answer = ''\n",
    "    idx = 0\n",
    "    target =''\n",
    "\n",
    "    cnt = 1\n",
    "    min_len = []\n",
    "    \n",
    "\n",
    "    if len_s <= 1 :\n",
    "        min_len.append(len_s)\n",
    "    else:\n",
    "        for cut in range(1, len_s):\n",
    "            #print('cut : ', cut)\n",
    "            answer = ''\n",
    "            idx = 0\n",
    "            target =''\n",
    "            tmp_s = []\n",
    "            for i in range(len_s):\n",
    "                for j in range(idx, len_s):\n",
    "                    target = s[idx:idx+cut]\n",
    "                    #print('타겟',target)\n",
    "                    if target != s[idx+cut:idx+2*cut]:\n",
    "                        idx += cut\n",
    "                        #print('다름:', idx)\n",
    "                        if cnt>1:\n",
    "                            tmp_s.append(str(cnt)+target)\n",
    "                            #print(tmp_s)\n",
    "                            cnt = 1\n",
    "                            continue\n",
    "                        else:\n",
    "                            tmp_s.append(target)\n",
    "                            #print(tmp_s)\n",
    "                            continue    \n",
    "                    else:\n",
    "                        #print('같음')\n",
    "                        cnt += 1\n",
    "                        idx += cut\n",
    "                        #print(target, cnt, idx)\n",
    "\n",
    "            answer = len(''.join(tmp_s))\n",
    "            min_len.append(answer)\n",
    "            cnt = 1\n",
    "    return min(min_len)"
   ]
  },
  {
   "cell_type": "code",
   "execution_count": 138,
   "id": "818f695d",
   "metadata": {},
   "outputs": [
    {
     "data": {
      "text/plain": [
       "7"
      ]
     },
     "execution_count": 138,
     "metadata": {},
     "output_type": "execute_result"
    }
   ],
   "source": [
    "solution('aabbaccc')"
   ]
  },
  {
   "cell_type": "code",
   "execution_count": 139,
   "id": "c804b27a",
   "metadata": {},
   "outputs": [
    {
     "data": {
      "text/plain": [
       "9"
      ]
     },
     "execution_count": 139,
     "metadata": {},
     "output_type": "execute_result"
    }
   ],
   "source": [
    "solution('ababcdcdababcdcd')"
   ]
  },
  {
   "cell_type": "code",
   "execution_count": 140,
   "id": "38cc2e70",
   "metadata": {},
   "outputs": [
    {
     "data": {
      "text/plain": [
       "8"
      ]
     },
     "execution_count": 140,
     "metadata": {},
     "output_type": "execute_result"
    }
   ],
   "source": [
    "solution('abcabcdede')"
   ]
  },
  {
   "cell_type": "code",
   "execution_count": 141,
   "id": "8a3b97db",
   "metadata": {},
   "outputs": [
    {
     "data": {
      "text/plain": [
       "14"
      ]
     },
     "execution_count": 141,
     "metadata": {},
     "output_type": "execute_result"
    }
   ],
   "source": [
    "solution('abcabcabcabcdededededede')"
   ]
  },
  {
   "cell_type": "code",
   "execution_count": 142,
   "id": "d7629c4b",
   "metadata": {},
   "outputs": [
    {
     "data": {
      "text/plain": [
       "17"
      ]
     },
     "execution_count": 142,
     "metadata": {},
     "output_type": "execute_result"
    }
   ],
   "source": [
    "solution('xababcdcdababcdcd')"
   ]
  },
  {
   "cell_type": "markdown",
   "id": "9b9599d0",
   "metadata": {},
   "source": [
    "모범 답안"
   ]
  },
  {
   "cell_type": "code",
   "execution_count": 149,
   "id": "0763acce",
   "metadata": {},
   "outputs": [],
   "source": [
    "def solution(s):\n",
    "    answer = len(s)\n",
    "    for step in range(1, len(s) // 2 + 1):\n",
    "        compressed = \"\"\n",
    "        prev = s[0:step]\n",
    "        count = 1\n",
    "        for j in range(step, len(s), step):\n",
    "            if prev == s[j:j + step]:\n",
    "                count += 1\n",
    "            else:\n",
    "                compressed += str(count) + prev if count >= 2 else prev\n",
    "                prev = s[j:j + step]\n",
    "                count = 1\n",
    "        \n",
    "        compressed += str(count) + prev if count >= 2 else prev\n",
    "        answer = min(answer, len(compressed))\n",
    "    return answer"
   ]
  },
  {
   "cell_type": "code",
   "execution_count": 150,
   "id": "d3554ac4",
   "metadata": {},
   "outputs": [
    {
     "data": {
      "text/plain": [
       "7"
      ]
     },
     "execution_count": 150,
     "metadata": {},
     "output_type": "execute_result"
    }
   ],
   "source": [
    "solution('aabbaccc')"
   ]
  },
  {
   "cell_type": "code",
   "execution_count": 151,
   "id": "3b15e671",
   "metadata": {},
   "outputs": [
    {
     "data": {
      "text/plain": [
       "9"
      ]
     },
     "execution_count": 151,
     "metadata": {},
     "output_type": "execute_result"
    }
   ],
   "source": [
    "solution('ababcdcdababcdcd')"
   ]
  },
  {
   "cell_type": "code",
   "execution_count": 152,
   "id": "f993d24d",
   "metadata": {},
   "outputs": [
    {
     "data": {
      "text/plain": [
       "8"
      ]
     },
     "execution_count": 152,
     "metadata": {},
     "output_type": "execute_result"
    }
   ],
   "source": [
    "solution('abcabcdede')"
   ]
  },
  {
   "cell_type": "code",
   "execution_count": 153,
   "id": "1134db3a",
   "metadata": {},
   "outputs": [
    {
     "data": {
      "text/plain": [
       "14"
      ]
     },
     "execution_count": 153,
     "metadata": {},
     "output_type": "execute_result"
    }
   ],
   "source": [
    "solution('abcabcabcabcdededededede')"
   ]
  },
  {
   "cell_type": "code",
   "execution_count": 154,
   "id": "5a5528fa",
   "metadata": {},
   "outputs": [
    {
     "data": {
      "text/plain": [
       "17"
      ]
     },
     "execution_count": 154,
     "metadata": {},
     "output_type": "execute_result"
    }
   ],
   "source": [
    "solution('xababcdcdababcdcd')"
   ]
  },
  {
   "cell_type": "markdown",
   "id": "8af99f59",
   "metadata": {},
   "source": [
    "## A 10 자물쇠와 열쇠"
   ]
  },
  {
   "cell_type": "code",
   "execution_count": null,
   "id": "1bb73561",
   "metadata": {},
   "outputs": [],
   "source": [
    "def rotate_a_matrix_by_90_degree(a):\n",
    "    n = len(a)\n",
    "    m = len(a[0])\n",
    "    result = [[0] * n for _ in range(m)] \n",
    "    for i in range(n):\n",
    "        for j in range(m):\n",
    "            result[j][n - i - 1] = a[i][j]\n",
    "    return result\n",
    "\n",
    "def check(new_lock):\n",
    "    lock_length = len(new_lock) // 3\n",
    "    for i in range(lock_length, lock_length * 2):\n",
    "        for j in range(lock_length, lock_length * 2):\n",
    "            if new_lock[i][j] != 1:\n",
    "                return False\n",
    "    return True\n",
    "\n",
    "\n",
    "\n",
    "def solution(key, lock):\n",
    "    n = len(lock)\n",
    "    m = len(key)\n",
    "    \n",
    "    new_lock = [[0] * (n * 3) for _ in range(n * 3)]\n",
    "    \n",
    "    for i in range(n):\n",
    "        for j in range(n):\n",
    "            new_lock[i + n][j + n] = lock[i][j]\n",
    "        \n",
    "    for rotatoin in range(4):\n",
    "        key = rotate_a_matrix_by_90_degree(key)\n",
    "        for x in range(n * 2):\n",
    "            for y in range(n * 2):\n",
    "                for i in range(m):\n",
    "                    for j in range(m):\n",
    "                        new_lock[x + i][y + j] += key[i][j]\n",
    "                    \n",
    "                if check(new_lock) == True:\n",
    "                    return True\n",
    "                \n",
    "                for i in range(m):\n",
    "                    for j in range(m):\n",
    "                        new_lock[x + i][y +j] -= key[i][j]\n",
    "    \n",
    "    return False\n"
   ]
  },
  {
   "cell_type": "markdown",
   "id": "02e1ffe9",
   "metadata": {},
   "source": [
    "## A 11 뱀"
   ]
  },
  {
   "cell_type": "code",
   "execution_count": 5,
   "id": "ff1b8af9",
   "metadata": {},
   "outputs": [
    {
     "name": "stdout",
     "output_type": "stream",
     "text": [
      "6\n",
      "3\n",
      "3 4\n",
      "2 5\n",
      "5 3\n",
      "3\n",
      "3 D\n",
      "15 L\n",
      "17 D\n",
      "9\n"
     ]
    }
   ],
   "source": [
    "n = int(input())\n",
    "k = int(input())\n",
    "data = [[0] * (n + 1) for _ in range(n + 1)]\n",
    "info = []\n",
    "\n",
    "for _ in range(k):\n",
    "    a, b = map(int, input().split())\n",
    "    data[a][b] = 1\n",
    "    \n",
    "l = int(input())\n",
    "for _ in range(l):\n",
    "    x, c = input().split()\n",
    "    info.append((int(x), c))\n",
    "    \n",
    "\n",
    "dx = [0, 1, 0, -1]\n",
    "dy = [1, 0, -1, 0]\n",
    "\n",
    "\n",
    "def turn(direction, c):\n",
    "    if c == \"L\":\n",
    "        direction = (direction - 1) % 4\n",
    "    else:\n",
    "        direction = (direction + 1) % 4\n",
    "    return direction\n",
    "\n",
    "\n",
    "def simulate():\n",
    "    x, y = 1, 1\n",
    "    data[x][y] = 2\n",
    "    direction = 0\n",
    "    time = 0\n",
    "    index = 0\n",
    "    q = [(x, y)]\n",
    "    \n",
    "    while True:\n",
    "        nx = x + dx[direction]\n",
    "        ny = y + dy[direction]\n",
    "        \n",
    "        if 1 <= nx and nx <= n and 1 <= ny and ny <= n and data[nx][ny] != 2:\n",
    "            if data[nx][ny] == 0:\n",
    "                data[nx][ny] = 2\n",
    "                q.append((nx, ny))\n",
    "                px, py = q.pop(0)\n",
    "                data[px][py] = 0\n",
    "            if data[nx][ny] == 1:\n",
    "                data[nx][ny] = 2\n",
    "                q.append((nx, ny))\n",
    "            \n",
    "        else:\n",
    "            time += 1\n",
    "            break\n",
    "        x, y = nx, ny\n",
    "        time += 1\n",
    "        if index < l and time == info[index][0]:\n",
    "            direction = turn(direction, info[index][1])\n",
    "            index += 1\n",
    "    return time\n",
    "    \n",
    "print(simulate())\n",
    "        \n",
    "        \n",
    "        "
   ]
  },
  {
   "cell_type": "markdown",
   "id": "57d78004",
   "metadata": {},
   "source": [
    "## A 12 기둥과 보 설치"
   ]
  },
  {
   "cell_type": "code",
   "execution_count": null,
   "id": "c21904d1",
   "metadata": {},
   "outputs": [],
   "source": [
    "def possible(answer):\n",
    "    for x, y, stuff in answer:\n",
    "        if stuff == 0:\n",
    "            if y == 0 or [x - 1, y, 1] in answer or [x, y, 1] in answer or [x, y - 1, 0] in answer:\n",
    "                continue\n",
    "            return False\n",
    "        elif stuff == 1:\n",
    "            if [x, y - 1, 0] in answer or [x + 1, y - 1, 0] in answer or ([x - 1, y, 1] in answer and [x + 1, y, 1] in answer):\n",
    "                continue\n",
    "            return False\n",
    "    return True\n",
    "                \n",
    "\n",
    "def solution(n, build_frame):\n",
    "    answer = []\n",
    "    for frame in build_frame:\n",
    "        x, y, stuff, operate = frame\n",
    "        if operate == 0:\n",
    "            answer.remove([x, y, stuff])\n",
    "            if not possible(answer):\n",
    "                answer.append([x, y, stuff])\n",
    "        if operate == 1:\n",
    "            answer.append([x, y, stuff])\n",
    "            if not possible(answer):\n",
    "                answer.remove([x, y, stuff])\n",
    "    return sorted(answer)"
   ]
  },
  {
   "cell_type": "markdown",
   "id": "6b18070d",
   "metadata": {},
   "source": [
    "## A 13 치킨배달"
   ]
  },
  {
   "cell_type": "code",
   "execution_count": 9,
   "id": "0f58f052",
   "metadata": {},
   "outputs": [
    {
     "name": "stdout",
     "output_type": "stream",
     "text": [
      "5 3 \n",
      "0 0 1 0 0\n",
      "0 0 2 0 1\n",
      "0 1 2 0 0\n",
      "0 0 1 0 0\n",
      "0 0 0 0 2\n",
      "5\n"
     ]
    }
   ],
   "source": [
    "from itertools import combinations\n",
    "\n",
    "n, m = map(int, input().split())\n",
    "chicken, house = [], []\n",
    "\n",
    "for r in range(n):\n",
    "    data = list(map(int, input().split()))\n",
    "    for c in range(n):\n",
    "        if data[c]  == 1:\n",
    "            house.append((r, c))\n",
    "        elif data[c] == 2:\n",
    "            chicken.append((r, c))\n",
    "    \n",
    "candidates = list(combinations(chicken, m))\n",
    "\n",
    "def get_sum(candidate):\n",
    "    result = 0\n",
    "    for hx, hy in house:\n",
    "        temp = 1e9\n",
    "        for cx, cy in candidate:\n",
    "            temp = min(temp, abs(hx - cx) + abs(hy - cy))\n",
    "        result += temp\n",
    "    return result\n",
    "\n",
    "\n",
    "result = 1e9\n",
    "for candidate in candidates:\n",
    "    result = min(result, get_sum(candidate))\n",
    "\n",
    "print(result)"
   ]
  },
  {
   "cell_type": "markdown",
   "id": "75b7616a",
   "metadata": {},
   "source": [
    "## A 14 외벽 점검"
   ]
  },
  {
   "cell_type": "code",
   "execution_count": null,
   "id": "9ddd11f0",
   "metadata": {},
   "outputs": [],
   "source": [
    "from itertools import permutations\n",
    "\n",
    "def solution(n, weak, dist):\n",
    "    length = len(weak)\n",
    "    for i in range(length):\n",
    "        weak.append(weak[i] + n)\n",
    "    answer = len(dist) + 1\n",
    "    \n",
    "    for start in range(length):\n",
    "        for friends in list(permutations(dist, len(dist))):\n",
    "            count = 1\n",
    "            position = weak[start] + friends[count - 1]\n",
    "            for index in range(start, start + length):\n",
    "                if position < weak[index]:\n",
    "                    count += 1\n",
    "                    if count > len(dist):\n",
    "                        break\n",
    "                    position = weak[index] + friends[count - 1]\n",
    "            answer = min(answer, count)\n",
    "        \n",
    "    if answer > len(dist):\n",
    "        return -1\n",
    "    return answer"
   ]
  }
 ],
 "metadata": {
  "kernelspec": {
   "display_name": "Python 3 (ipykernel)",
   "language": "python",
   "name": "python3"
  },
  "language_info": {
   "codemirror_mode": {
    "name": "ipython",
    "version": 3
   },
   "file_extension": ".py",
   "mimetype": "text/x-python",
   "name": "python",
   "nbconvert_exporter": "python",
   "pygments_lexer": "ipython3",
   "version": "3.7.0"
  }
 },
 "nbformat": 4,
 "nbformat_minor": 5
}
