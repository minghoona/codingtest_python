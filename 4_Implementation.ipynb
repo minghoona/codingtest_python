{
 "cells": [
  {
   "cell_type": "markdown",
   "id": "2f28f601-9b10-416b-b8a1-82e9de9156d8",
   "metadata": {},
   "source": [
    "# 예제 4-1 상하좌우"
   ]
  },
  {
   "cell_type": "markdown",
   "id": "535c6a3b-07a5-43e6-bd5a-45487fabfeb9",
   "metadata": {},
   "source": [
    "- L : 왼쪽으로 한 칸 이동  \n",
    "- R : 오른쪽으로 한 칸 이동\n",
    "- U : 위로 한 칸 이동  \n",
    "- D : 아래로 한 칸 이동"
   ]
  },
  {
   "cell_type": "markdown",
   "id": "040f679a-e5be-496b-8c74-052448bbccdf",
   "metadata": {},
   "source": [
    "## 입력조건  \n",
    "- 첫째 줄에 공간의 크기를 나타내는 N이 주어진다( 1<= N <= 100)  \n",
    "- 둘째 줄에 여행가 A가 이동할 계획서 내용이 주어진다(1<= 이동 횟수 <= 100)"
   ]
  },
  {
   "cell_type": "markdown",
   "id": "f1ffe3b6-5209-496a-9f22-64413ecb4a83",
   "metadata": {},
   "source": [
    "## 출력조건  \n",
    "- 첫째 줄에 여행가 A가 최종적으로 도착할 지점의 좌표(X, Y)를 공백으로 구분하여 출력한다."
   ]
  },
  {
   "cell_type": "code",
   "execution_count": 5,
   "id": "98ed55bf-c61b-4a41-afab-be22cc5a260c",
   "metadata": {},
   "outputs": [
    {
     "name": "stdin",
     "output_type": "stream",
     "text": [
      " 5\n",
      " R R R U D D\n"
     ]
    },
    {
     "name": "stdout",
     "output_type": "stream",
     "text": [
      "3 4\n"
     ]
    }
   ],
   "source": [
    "n = int(input())\n",
    "x, y = 1, 1\n",
    "plans = input().split()\n",
    "\n",
    "# L, R, U, D에 따른 이동 방향\n",
    "dx = [0, 0, -1, 1]\n",
    "dy = [-1, 1, 0, 0]\n",
    "move_types = ['L', 'R', 'U', 'D']\n",
    "\n",
    "for plan in plans :\n",
    "    for i in range(len(move_types)) :\n",
    "        if plan == move_types[i] :\n",
    "            nx = x + dx[i]\n",
    "            ny = y + dy[i]\n",
    "        # 공간을 벗어나는 경우 무시\n",
    "    if nx < 1 or ny < 1 or nx > n or ny > n : \n",
    "        continue\n",
    "    x, y = nx, ny\n",
    "\n",
    "print(x, y)\n",
    "    "
   ]
  },
  {
   "cell_type": "markdown",
   "id": "4373a532-5233-45b0-905e-ce8edf6d588d",
   "metadata": {},
   "source": [
    "---"
   ]
  },
  {
   "cell_type": "markdown",
   "id": "781256df-2897-46b3-a96f-a157973a5307",
   "metadata": {},
   "source": [
    "# 예제 4-2 시각"
   ]
  },
  {
   "cell_type": "markdown",
   "id": "211c3de6-8fed-4f1f-b240-5a6d6b54076c",
   "metadata": {},
   "source": [
    "### 정수 N이 입력되면 00시 00분 00초부터 N시 59분 59초까지의 모든 시각 중에서 3이 하나라도 포함되는 모든 경우의 수를 구하는 프로그램을 작성하시오."
   ]
  },
  {
   "cell_type": "markdown",
   "id": "c59dc629-2f7e-4b8b-b1f9-049093225e02",
   "metadata": {},
   "source": [
    "### 입력조건  \n",
    "- 첫째 줄에 정수 N이 입력된다. (0 <= N <= 23)\n"
   ]
  },
  {
   "cell_type": "markdown",
   "id": "cf5f7d00-f848-4c3c-ae83-06103b6aa24d",
   "metadata": {},
   "source": [
    "### 출력조건  \n",
    "- 00시 00분 00초부터 N시 59분 59초까지의 모든 시각 중에서 3이 하나라도 포함되는 모든 경우의 수를 출력한다."
   ]
  },
  {
   "cell_type": "code",
   "execution_count": 6,
   "id": "dc9ea33c-393c-43ac-953e-f75187675c7c",
   "metadata": {},
   "outputs": [
    {
     "name": "stdin",
     "output_type": "stream",
     "text": [
      " 5\n"
     ]
    },
    {
     "name": "stdout",
     "output_type": "stream",
     "text": [
      "11475\n"
     ]
    }
   ],
   "source": [
    "h = int(input())\n",
    "\n",
    "count = 0\n",
    "for i in range(h + 1) :\n",
    "    for j in range(60) :\n",
    "        for k in range(60) :\n",
    "            if '3' in str(i) + str(j) + str(k) :\n",
    "                count += 1\n",
    "\n",
    "print(count)"
   ]
  },
  {
   "cell_type": "markdown",
   "id": "f1da8a8e-9606-49cb-9f8c-74a48ff55049",
   "metadata": {},
   "source": [
    "---"
   ]
  },
  {
   "cell_type": "markdown",
   "id": "66e06c37-3704-4a94-9114-5b7ebb950a86",
   "metadata": {},
   "source": [
    "# 실전 문제 : 왕실의 나이트"
   ]
  },
  {
   "cell_type": "markdown",
   "id": "b4fe537a-36ce-4a24-8bdd-f0aa9809b06d",
   "metadata": {},
   "source": [
    "### 입력조건\n",
    "- 첫째 줄 8 x 8 좌표 평면상에서 현재 나이트가 위치한 곳의 좌표를 나타내는 두 문자로 구성된 문자열이 입력된다. 입력 문자는 al처럼 열과 행으로 이뤄진다. "
   ]
  },
  {
   "cell_type": "markdown",
   "id": "cf7a0514-8c68-4f03-a2bd-e17c02cbd603",
   "metadata": {},
   "source": [
    "### 출력조건\n",
    "- 첫째 줄에 나이트가 이동할 수 있는 경우의 수를 출력하시오."
   ]
  },
  {
   "cell_type": "code",
   "execution_count": 8,
   "id": "48c80590-143d-43c2-8ccc-e90e5a803024",
   "metadata": {},
   "outputs": [
    {
     "name": "stdin",
     "output_type": "stream",
     "text": [
      " a1\n"
     ]
    },
    {
     "name": "stdout",
     "output_type": "stream",
     "text": [
      "2\n"
     ]
    }
   ],
   "source": [
    "input_data = input()\n",
    "row = int(input_data[1])\n",
    "column = int(ord(input_data[0])) - int(ord('a')) + 1 #ord -> 문자에 해당하는 유니코드 반환\n",
    "\n",
    "\n",
    "steps = [(-2, -1), (-1, -2), (1, -2), (2, -1), (2, 1), (1, 2), (-1, 2), (-2, 1)]\n",
    "\n",
    "result = 0\n",
    "for step in steps :\n",
    "    next_row = row + step[0]\n",
    "    next_column = column + step[1]\n",
    "    if next_row >= 1 and next_row <= 8 and next_column >=1 and next_column <= 8 :\n",
    "        result += 1\n",
    "\n",
    "print(result)"
   ]
  },
  {
   "cell_type": "code",
   "execution_count": 13,
   "id": "8ee71848-9516-44de-b896-50bbe233ad0f",
   "metadata": {},
   "outputs": [
    {
     "name": "stdin",
     "output_type": "stream",
     "text": [
      " a1\n"
     ]
    },
    {
     "name": "stdout",
     "output_type": "stream",
     "text": [
      "97\n",
      "98\n"
     ]
    }
   ],
   "source": [
    "input_data = input()\n",
    "row = int(input_data[1])\n",
    "column = int(ord(input_data[0])) - int(ord('a')) + 1 #ord -> 문자에 해당하는 유니코드 반환\n",
    "\n",
    "print(int(ord(input_data[0])))\n",
    "print(int(ord('b')))"
   ]
  },
  {
   "cell_type": "markdown",
   "id": "0bd9b3a4-9fe5-4f59-8f45-69be35fcbabb",
   "metadata": {},
   "source": [
    "---"
   ]
  },
  {
   "cell_type": "markdown",
   "id": "2ce38d75-abe8-430d-9784-4c18942a169e",
   "metadata": {},
   "source": [
    "# 실전문제 : 게임 개발"
   ]
  },
  {
   "cell_type": "markdown",
   "id": "150a2c1a-2228-4df5-a6c0-12d9eb9a7e53",
   "metadata": {},
   "source": [
    "## 입력 조건\n",
    "- 첫째 줄에 맵의 세로 크기 N과 가로 크기 M을 공백으로 구분하려 한다. (3 <= N, M <= 50)\n",
    "- 둘째 줄에 게임 캐릭터가 있는 칸의 좌표 (A, B)와 바라보는 방향 d가 각각 서로 공백으로 구분하여 주어진다. 방향 d의 값으로는 다음과 같이 4가지가 존재한다. \n",
    "        - 0 : 북쪽\n",
    "        - 1 : 동쪽\n",
    "        - 2 : 남쪽\n",
    "        - 3 : 서쪽\n",
    "- 셋째 줄 부터 맵이 육지인지 바다인지에 대한 정보가 주어진다. N개의 줄에 맵의 상태가 북쪽부터 남쪽 순서대로, 각 줄의 데이터는 서쪽부터 동쪽 순서대로 주어진다. 맵의 외각은 항상 바다로 되어 있다.\n",
    "        - 0 : 육지\n",
    "        - 1 : 바다\n",
    "- 처음에 게임 캐릭터가 위치한 칸의 상태는 항상 육지이다."
   ]
  },
  {
   "cell_type": "markdown",
   "id": "0bcdbe82-7961-4826-9c52-9ea7367d0649",
   "metadata": {},
   "source": [
    "## 출력 조건\n",
    "- 첫째 줄에 이동을 마친 후 캐릭터가 방문한 칸의 수를 출력한다."
   ]
  },
  {
   "cell_type": "code",
   "execution_count": 9,
   "id": "ff369f1f-83ff-439d-b87e-df99466ed5ff",
   "metadata": {},
   "outputs": [
    {
     "name": "stdin",
     "output_type": "stream",
     "text": [
      " 4 4 \n",
      "  1 1 0\n",
      " 1 1 1 1\n",
      " 1 0 0 1\n",
      " 1 1 0 1\n",
      "  1 1 1 1\n"
     ]
    },
    {
     "name": "stdout",
     "output_type": "stream",
     "text": [
      "3\n"
     ]
    }
   ],
   "source": [
    "n, m = map(int, input().split())\n",
    "\n",
    "d = [[0] * m for _ in range(n)] # -> 언더바(_)는 파이썬 자료구조/알고리즘에서 반복을 수행하되 반복을 위한 변수의 값을 사용할 필요가 없을 때 사용\n",
    "x, y, direction = map(int, input().split())\n",
    "d[x][y] = 1 # 현재 좌표 방문 처리\n",
    "\n",
    "array = []\n",
    "for i in range(n) :\n",
    "    array.append(list(map(int, input().split())))\n",
    "    \n",
    "dx = [-1, 0, 1, 0]\n",
    "dy = [0, 1, 0, -1]\n",
    "\n",
    "def turn_left() :\n",
    "    global direction\n",
    "    direction -= 1\n",
    "    if direction == -1 :\n",
    "        direction = 3\n",
    "        \n",
    "        \n",
    "count = 1\n",
    "turn_time = 0\n",
    "while True :\n",
    "    turn_left()\n",
    "    nx = x + dx[direction]\n",
    "    ny = y + dy[direction]\n",
    "    \n",
    "    if d[nx][ny] == 0 and array[nx][ny] == 0 :\n",
    "        d[nx][ny] = 1\n",
    "        x = nx\n",
    "        y = ny\n",
    "        count += 1\n",
    "        turn_time = 0\n",
    "        continue\n",
    "    else :\n",
    "        turn_time += 1\n",
    "    \n",
    "    if turn_time == 4 :\n",
    "        nx = x - dx[direction]\n",
    "        ny = y - dy[direction]\n",
    "        if array[nx][ny] == 0 :\n",
    "            x = nx\n",
    "            y = ny\n",
    "        else : \n",
    "            break\n",
    "        turn_time = 0\n",
    "        \n",
    "print(count)"
   ]
  }
 ],
 "metadata": {
  "kernelspec": {
   "display_name": "Python 3",
   "language": "python",
   "name": "python3"
  },
  "language_info": {
   "codemirror_mode": {
    "name": "ipython",
    "version": 3
   },
   "file_extension": ".py",
   "mimetype": "text/x-python",
   "name": "python",
   "nbconvert_exporter": "python",
   "pygments_lexer": "ipython3",
   "version": "3.8.5"
  }
 },
 "nbformat": 4,
 "nbformat_minor": 5
}
