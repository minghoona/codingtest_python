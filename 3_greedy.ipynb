{
 "cells": [
  {
   "cell_type": "markdown",
   "id": "51c05955-462a-4d1a-92a9-bbbc7711c6f8",
   "metadata": {},
   "source": [
    "# 예제 3-1"
   ]
  },
  {
   "cell_type": "code",
   "execution_count": 4,
   "id": "a87a4c46-e47d-417d-82b5-5e81ba065a58",
   "metadata": {},
   "outputs": [
    {
     "name": "stdout",
     "output_type": "stream",
     "text": [
      "28\n"
     ]
    }
   ],
   "source": [
    "n = 12660\n",
    "count = 0\n",
    "\n",
    "#큰 단위의 화폐부터 차례대로 확인\n",
    "coin_types = [500, 100, 50, 10]\n",
    "\n",
    "for coin in coin_types :\n",
    "    count += n//coin # 해당 화폐로 거슬러 줄 수 있는 동전의 개수 세기\n",
    "    n %= coin\n",
    "\n",
    "print(count)"
   ]
  },
  {
   "cell_type": "markdown",
   "id": "115a3c34-34e1-4620-bdd0-7ea03291ecca",
   "metadata": {},
   "source": [
    "# 실전문제"
   ]
  },
  {
   "cell_type": "markdown",
   "id": "be02c1ad-f944-4ecc-9a96-68cbcb5f4f47",
   "metadata": {},
   "source": [
    "## 큰수의 법칙\n",
    "### 배열의 크기를 N, 숫자가 더해지는 횟수를 M, 그리고 K가 주어질 때 동빈이의 큰 수의 법칙에 따른 결과를 출력하시오.\n",
    "- 큰수의 법칙 : 주어진 수들을 M번 더하여 가장 큰 수를 만드는 법칙. 단, 배열의 특정한 인덱스(번호)에 해당하는 수가 연속해서 K번을 초과하여 더해질 수 없는 것이 특징."
   ]
  },
  {
   "cell_type": "markdown",
   "id": "f0890c7a-18cc-4f92-b147-f4ac2cb381a1",
   "metadata": {},
   "source": [
    "입력조건  \n",
    "- 첫째 줄에 N(2<= N <= 1000), M(1 <= M <= 10000), K(1<= K <= 10000)의 자연수가 주어지며, 각 자연수는 공백으로 구분한다.\n",
    "- 둘째 줄에 N개의 자연수가 주어진다. 각 자연수는 공백으로 구분한다. 단 각각의 자연수는 1 이상 10000 이하의 수로 주어진다.\n",
    "- 입력으로 주어지는 K는 항상 M보다 작거나 같다.\n",
    "\n",
    "출력조건  \n",
    "- 첫 번째 줄에 동빈이의 큰 수의 법칙에 따라 더해진 답을 출력한다."
   ]
  },
  {
   "cell_type": "code",
   "execution_count": 6,
   "id": "990426f4-d240-4dfe-aa06-c3a10dccf633",
   "metadata": {},
   "outputs": [
    {
     "name": "stdin",
     "output_type": "stream",
     "text": [
      " 5 8 3\n",
      " 2 4 5 4 6\n"
     ]
    },
    {
     "name": "stdout",
     "output_type": "stream",
     "text": [
      "46\n"
     ]
    }
   ],
   "source": [
    "# N, M, K를 공백으로 구분하여 입력받기\n",
    "n, m, k = map(int, input().split())\n",
    "\n",
    "#N개의 수를 공백으로 구분하여 입력받기\n",
    "data = list(map(int, input().split()))\n",
    "\n",
    "data.sort()\n",
    "first = data[n - 1]\n",
    "second = data[n - 2]\n",
    "\n",
    "result = 0\n",
    "\n",
    "while True :\n",
    "    for i in range(k) : # 가장 큰 수를 K번 더하기\n",
    "        if m == 0 : # m이 0이라면 탈출\n",
    "            break\n",
    "        result += first # 두 번째로 큰 수를 한 번 더하기\n",
    "        m -= 1 # 더할 때마다 1씩 빼기\n",
    "    if m == 0 : # m이 0이라면 반복문 탈출\n",
    "        break\n",
    "    result += second #두 번째로 큰 수를 한 번 더하기\n",
    "    m -= 1 #더할 때마다 1씩 빼기\n",
    "        \n",
    "print(result) # 최종 답안 출력"
   ]
  },
  {
   "cell_type": "markdown",
   "id": "83e5b062-bbcf-4d18-88ee-3d519e70432b",
   "metadata": {},
   "source": [
    "---"
   ]
  },
  {
   "cell_type": "code",
   "execution_count": 24,
   "id": "dbe44490-6ae5-4370-9cd3-492687cd17cf",
   "metadata": {},
   "outputs": [
    {
     "name": "stdin",
     "output_type": "stream",
     "text": [
      " 5 8 3\n",
      " 2 4 5 4 6\n"
     ]
    }
   ],
   "source": [
    "# N, M, K를 공백으로 구분하여 입력받기\n",
    "n, m, k = map(int, input().split())\n",
    "\n",
    "#N개의 수를 공백으로 구분하여 입력받기\n",
    "data = list(map(int, input().split()))\n"
   ]
  },
  {
   "cell_type": "code",
   "execution_count": 25,
   "id": "614eab26-dc3c-4595-a549-ede2cd43a482",
   "metadata": {},
   "outputs": [
    {
     "name": "stdout",
     "output_type": "stream",
     "text": [
      "[2, 4, 4, 5, 6]\n",
      "6 5\n"
     ]
    }
   ],
   "source": [
    "data.sort() # 정렬\n",
    "first = data[n - 1] # 첫 번째로 큰 수\n",
    "second = data[n - 2] # 두 번째로 큰 수\n",
    "\n",
    "print(data) \n",
    "print(first, second)"
   ]
  },
  {
   "cell_type": "code",
   "execution_count": 26,
   "id": "523fab3b-d0da-402c-a111-7d7e4fab1464",
   "metadata": {},
   "outputs": [
    {
     "name": "stdout",
     "output_type": "stream",
     "text": [
      "46\n"
     ]
    }
   ],
   "source": [
    "result = 0\n",
    "\n",
    "while True :\n",
    "    for i in range(k) : # 가장 큰 수를 K번 더하기\n",
    "        if m == 0 : # m이 0이라면 탈출\n",
    "            break\n",
    "        result += first # 두 번째로 큰 수를 한 번 더하기\n",
    "        m -= 1 # 더할 때마다 1씩 빼기\n",
    "    if m == 0 : # m이 0이라면 반복문 탈출\n",
    "        break\n",
    "    result += second #두 번째로 큰 수를 한 번 더하기\n",
    "    m -= 1 #더할 때마다 1씩 빼기\n",
    "        \n",
    "print(result) # 최종 답안 출력"
   ]
  },
  {
   "cell_type": "markdown",
   "id": "199380a4-4eeb-46d2-8efd-07455808d98c",
   "metadata": {},
   "source": [
    "# 공식 정리\n",
    "- 반복되는 수열의 길이  \n",
    "(K + 1)  \n",
    "- 수열이 반복되는 횟수  \n",
    "M(K + 1)  \n",
    "- 가장 큰 수가 등장하는 횟수  \n",
    "M(K + 1) * K\n",
    "- 가장 큰 수가 더해지는 횟수 (M이 (K+1)로 나눠 떨어지지 않는 경우도 고려)  \n",
    "int(M / (K+1)) * K + M % (K + 1) -> m을 k+1로 나눈 나머지만큼 가장 큰 수가 더해짐"
   ]
  },
  {
   "cell_type": "code",
   "execution_count": 28,
   "id": "358a5f0c-9577-48a4-b464-fe38752202db",
   "metadata": {},
   "outputs": [
    {
     "name": "stdin",
     "output_type": "stream",
     "text": [
      " 5 8 3\n",
      " 2 4 5 4 6\n"
     ]
    },
    {
     "name": "stdout",
     "output_type": "stream",
     "text": [
      "46\n"
     ]
    }
   ],
   "source": [
    "n, m, k = map(int, input().split())\n",
    "data = list(map(int, input().split()))\n",
    "\n",
    "data.sort()\n",
    "first = data[n-1]\n",
    "second = data[n-2]\n",
    "\n",
    "#가장 큰 수가 더해지는 횟수 계산\n",
    "count = int(m / (k + 1)) * k\n",
    "count += m%(k+1)\n",
    "\n",
    "result = 0\n",
    "result += (count) * first # 가장 큰 수 더하기\n",
    "result += (m - count) * second # 두 번째로 큰 수 더하기\n",
    "\n",
    "print(result)"
   ]
  },
  {
   "cell_type": "markdown",
   "id": "c6842275-e602-4c9c-ae3e-a72873dc3047",
   "metadata": {},
   "source": [
    "---"
   ]
  },
  {
   "cell_type": "markdown",
   "id": "ca845a50-4e5b-4f98-91de-6f3741a05166",
   "metadata": {},
   "source": [
    "# 숫자 카드 게임"
   ]
  },
  {
   "cell_type": "markdown",
   "id": "2f041504-3fe8-45c0-874c-b01d137bde44",
   "metadata": {},
   "source": [
    "1. 숫자가 쓰인 카드들이 N * M 형태로 놓여 있다. 이때 N은 행의 갯수를 의미하며, M은 열의 갯수를 의미한다.  \n",
    "2. 먼저 뽑고자 하는 카드가 포함되어 있는 행을 선택한다.  \n",
    "3. 그다음 선택된 행에 포함된 카드들 중 가장 숫자가 낮은 카드를 뽑아야 한다.  \n",
    "4. 따라서 처음에 카드를 골라낼 행을 선택할 때, 이후에 해당 행에서 가장 낮은 카드를 뽑을 것을 고려하여 최종적으로 가장 높은 숫자의 카드를 뽑을 수 있도록 전략을 세워야 한다."
   ]
  },
  {
   "cell_type": "markdown",
   "id": "b6ef399a-252e-448a-a11d-ecb919e7718a",
   "metadata": {},
   "source": [
    "## 입력 조건\n",
    "- 첫째 줄에 숫자 카드들이 놓인 행의 개수 N과 열의 개수 M이 공백을 개준으로 하여 각각 자연수로 주어진다. (1<= N, M <= 100)\n",
    "- 둘째 줄부터 N개의 줄에 걸쳐 각 카드에 적힌 숫자가 주어진다. 각 숫자는 1이상 10,000 이하의 자연수이다.  \n",
    "  \n",
    "## 출력조건  \n",
    "- 첫째 줄에 게임의 룰에 멪가 선택한 카드에 적힌 숫자를 출력한다."
   ]
  },
  {
   "cell_type": "markdown",
   "id": "ae4feef1-cb9a-4e7d-baef-998058c54778",
   "metadata": {},
   "source": [
    "### min() 함수 이용 답안"
   ]
  },
  {
   "cell_type": "code",
   "execution_count": 3,
   "id": "8a837889-5d6f-4130-bda7-1e58b052803e",
   "metadata": {},
   "outputs": [
    {
     "name": "stdin",
     "output_type": "stream",
     "text": [
      " 3 3\n",
      " 3 1 2\n",
      " 4 1 4\n",
      " 2 2 2\n"
     ]
    },
    {
     "name": "stdout",
     "output_type": "stream",
     "text": [
      "2\n"
     ]
    }
   ],
   "source": [
    "#N, M을 공백으로 구분하여 입력받기\n",
    "n, m = map(int, input().split())\n",
    "\n",
    "result = 0\n",
    "\n",
    "#한 줄씩 입력받아 확인\n",
    "for i in range(n) :\n",
    "    data = list(map(int, input().split()))\n",
    "    min_value = min(data)\n",
    "    result = max(result, min_value)\n",
    "\n",
    "print(result)"
   ]
  },
  {
   "cell_type": "markdown",
   "id": "d3eb51dc-2e67-4be6-a742-531c989e93f4",
   "metadata": {},
   "source": [
    "### 2중 반복문 구조 이용한 답안"
   ]
  },
  {
   "cell_type": "code",
   "execution_count": 4,
   "id": "99b7b2c5-3419-48ab-926e-71f35d21bd86",
   "metadata": {},
   "outputs": [
    {
     "name": "stdin",
     "output_type": "stream",
     "text": [
      " 3 3\n",
      " 3 1 2\n",
      " 4 1 4\n",
      " 2 2 2\n"
     ]
    },
    {
     "name": "stdout",
     "output_type": "stream",
     "text": [
      "2\n"
     ]
    }
   ],
   "source": [
    "n, m = map(int, input().split())\n",
    "\n",
    "result = 0\n",
    "\n",
    "for i in range(n) :\n",
    "    data = list(map(int, input().split()))\n",
    "    min_value = 10001\n",
    "    for a in data :\n",
    "        min_value = min(min_value, a)\n",
    "    result = max(result, min_value)\n",
    "\n",
    "print(result)"
   ]
  },
  {
   "cell_type": "markdown",
   "id": "a10ca412-9f56-45e4-8801-695ee4d6d952",
   "metadata": {},
   "source": [
    "---"
   ]
  },
  {
   "cell_type": "markdown",
   "id": "81ae4c23-5da1-40d9-a830-4a65265deb28",
   "metadata": {},
   "source": [
    "## 1이 될 때 까지"
   ]
  },
  {
   "cell_type": "markdown",
   "id": "4222a942-3763-46a9-9816-3436e1e2223f",
   "metadata": {},
   "source": [
    "## 입력 조건  \n",
    "- 첫째 줄에 N(2<= N <= 100,000) 과 K(2 <= K <= 100,000)가 공백으로 구분되며 각각 자연수로 주어진다. 이때 입력으로 주어지는 N은 항상 K보다 크거나 같다. \n",
    "\n",
    "## 출력 조건  \n",
    "- 첫째 줄에 N이 1이 될 때까지 1번 혹은 2번의 과정을 수행해야 하는 횟수의 최솟값을 출력한다.  "
   ]
  },
  {
   "cell_type": "markdown",
   "id": "2f2e84a6-58b5-4017-acf5-15f0f86bfc60",
   "metadata": {},
   "source": [
    "## 단순하게 푸는 예시"
   ]
  },
  {
   "cell_type": "code",
   "execution_count": 1,
   "id": "bbd11175-37af-406a-858a-f9940b0bb963",
   "metadata": {},
   "outputs": [
    {
     "name": "stdin",
     "output_type": "stream",
     "text": [
      " 25 5\n"
     ]
    },
    {
     "name": "stdout",
     "output_type": "stream",
     "text": [
      "2\n"
     ]
    }
   ],
   "source": [
    "n, k = map(int, input().split())\n",
    "result = 0\n",
    "\n",
    "#N이 K이상이라면 K로 계속 나누기\n",
    "while n >= k :\n",
    "    #N이 K로 나누어 떨어지지 않는다면 N에서 1씩 빼기\n",
    "    while n % k != 0 :\n",
    "        n -= 1\n",
    "        result += 1\n",
    "    #K로 나누기\n",
    "    n //= k\n",
    "    result += 1\n",
    "\n",
    "# 마지막 남은 수에 대해서 1씩 빼기\n",
    "while n > 1 :\n",
    "    n -= 1\n",
    "    result += 1\n",
    "\n",
    "print(result)"
   ]
  },
  {
   "cell_type": "markdown",
   "id": "1f94be9d-11f7-4c96-9331-ef86f1399b55",
   "metadata": {},
   "source": [
    "## 답안 예시"
   ]
  },
  {
   "cell_type": "code",
   "execution_count": 4,
   "id": "b0810a69-a3b7-46fb-aef4-864dda0fde9b",
   "metadata": {},
   "outputs": [
    {
     "name": "stdin",
     "output_type": "stream",
     "text": [
      " 25 5\n"
     ]
    },
    {
     "name": "stdout",
     "output_type": "stream",
     "text": [
      "2\n"
     ]
    }
   ],
   "source": [
    "n, k = map(int, input().split())\n",
    "result = 0\n",
    "\n",
    "while True :\n",
    "    #(N == K 로 나눠 떨어지는 수)가 될 때까지 1씩 빼기\n",
    "    target = (n//k) * k\n",
    "    result += (n - target)\n",
    "    n = target\n",
    "    #N이 K보다 작을 때(더이상 나눌 수 없을 때) 반복문 탈출\n",
    "    if n < k :\n",
    "        break\n",
    "        # K로 나누기\n",
    "    result += 1\n",
    "    n //= k\n",
    "\n",
    "# 마지막으로 남은 수에 대하여 1씩 빼기\n",
    "result += (n -1)\n",
    "print(result)"
   ]
  },
  {
   "cell_type": "code",
   "execution_count": null,
   "id": "bb2cfc8b-2a72-4fee-b1f9-f0ba21a19097",
   "metadata": {},
   "outputs": [],
   "source": []
  }
 ],
 "metadata": {
  "kernelspec": {
   "display_name": "Python 3",
   "language": "python",
   "name": "python3"
  },
  "language_info": {
   "codemirror_mode": {
    "name": "ipython",
    "version": 3
   },
   "file_extension": ".py",
   "mimetype": "text/x-python",
   "name": "python",
   "nbconvert_exporter": "python",
   "pygments_lexer": "ipython3",
   "version": "3.8.5"
  }
 },
 "nbformat": 4,
 "nbformat_minor": 5
}
