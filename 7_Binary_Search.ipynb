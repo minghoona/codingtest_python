{
 "cells": [
  {
   "cell_type": "markdown",
   "id": "b4ab1ea4-1936-4d9c-9bdf-4e2332b0da9c",
   "metadata": {},
   "source": [
    "## 7-1 순차 탐색 소스코드"
   ]
  },
  {
   "cell_type": "code",
   "execution_count": 2,
   "id": "d79c9b01-1cbe-4932-9703-8b5a6d1570f1",
   "metadata": {},
   "outputs": [],
   "source": [
    "def sequential_search(n, target, array):\n",
    "    for i in range(n):\n",
    "        if array[i] == target:\n",
    "            return i + 1"
   ]
  },
  {
   "cell_type": "code",
   "execution_count": 3,
   "id": "6cf53228-65f8-40eb-af84-b122152560da",
   "metadata": {},
   "outputs": [
    {
     "name": "stdout",
     "output_type": "stream",
     "text": [
      "생성할 원소 개수를 입력한 다음 한 칸을 띄고 찾을 문자열을 입력하세요.\n"
     ]
    },
    {
     "name": "stdin",
     "output_type": "stream",
     "text": [
      " 5 Dongbin\n"
     ]
    },
    {
     "name": "stdout",
     "output_type": "stream",
     "text": [
      "앞서 적은 원소 개수만큼 문자열을 입력하세요. 구분은 띄어쓰기 한 칸으로 합니다.\n"
     ]
    },
    {
     "name": "stdin",
     "output_type": "stream",
     "text": [
      " Hanul Jonggu Dongbin Taeil Sangwook\n"
     ]
    },
    {
     "name": "stdout",
     "output_type": "stream",
     "text": [
      "3\n"
     ]
    }
   ],
   "source": [
    "print(\"생성할 원소 개수를 입력한 다음 한 칸을 띄고 찾을 문자열을 입력하세요.\")\n",
    "input_data = input().split()\n",
    "n = int(input_data[0])\n",
    "target = input_data[1]\n",
    "\n",
    "print(\"앞서 적은 원소 개수만큼 문자열을 입력하세요. 구분은 띄어쓰기 한 칸으로 합니다.\")\n",
    "array = input().split()\n",
    "\n",
    "print(sequential_search(n, target, array))"
   ]
  },
  {
   "cell_type": "markdown",
   "id": "b71cb65d-7fc9-412e-ba5c-e4653a589e71",
   "metadata": {},
   "source": [
    "## 7-2 재귀 함수로 구현한 이진 탐색 소스코드"
   ]
  },
  {
   "cell_type": "code",
   "execution_count": 4,
   "id": "39e98635-0b01-4b91-bbc5-b6b0916149d0",
   "metadata": {},
   "outputs": [],
   "source": [
    "def binary_search(array, target, start, end):\n",
    "    if start > end:\n",
    "        return None\n",
    "    mid = (start + end) // 2\n",
    "    if array[mid] == target:\n",
    "        return mid\n",
    "    elif array[mid] > target:\n",
    "        return binary_search(array, target, start, mid - 1)\n",
    "    else:\n",
    "        return binary_search(array, target, mid + 1, end)"
   ]
  },
  {
   "cell_type": "code",
   "execution_count": 5,
   "id": "c0cfd489-3040-4ce0-8664-e3852f6f6fe7",
   "metadata": {},
   "outputs": [
    {
     "name": "stdin",
     "output_type": "stream",
     "text": [
      " 10 7\n",
      " 1 3 5 7 9 11 13 15 17 19\n"
     ]
    },
    {
     "name": "stdout",
     "output_type": "stream",
     "text": [
      "4\n"
     ]
    }
   ],
   "source": [
    "n, target = list(map(int, input().split()))\n",
    "array = list(map(int, input().split()))\n",
    "\n",
    "result = binary_search(array, target, 0, n - 1)\n",
    "if result == None:\n",
    "    print(\"원소가 존재하지 않습니다.\")\n",
    "else:\n",
    "    print(result + 1)"
   ]
  },
  {
   "cell_type": "code",
   "execution_count": 6,
   "id": "98569572-3853-4f1a-9009-71b8d79a7d9f",
   "metadata": {},
   "outputs": [
    {
     "name": "stdin",
     "output_type": "stream",
     "text": [
      " 10 7\n",
      " 1 3 5 6 9 11 13 15 17 19\n"
     ]
    },
    {
     "name": "stdout",
     "output_type": "stream",
     "text": [
      "원소가 존재하지 않습니다.\n"
     ]
    }
   ],
   "source": [
    "n, target = list(map(int, input().split()))\n",
    "array = list(map(int, input().split()))\n",
    "\n",
    "result = binary_search(array, target, 0, n - 1)\n",
    "if result == None:\n",
    "    print(\"원소가 존재하지 않습니다.\")\n",
    "else:\n",
    "    print(result + 1)"
   ]
  },
  {
   "cell_type": "markdown",
   "id": "090045fd-93a5-4710-9f00-92d7380a31da",
   "metadata": {},
   "source": [
    "## 7-3 반복문으로 구현한 이진 탐색 소스코드"
   ]
  },
  {
   "cell_type": "code",
   "execution_count": 7,
   "id": "b9c2f33f-a1db-4484-98b3-ccb3dca712de",
   "metadata": {},
   "outputs": [],
   "source": [
    "def binary_search(array, target, start, end):\n",
    "    while start <= end:\n",
    "        mid = (start + end) // 2\n",
    "        if array[mid] == target:\n",
    "            return mid\n",
    "        elif array[mid] > target:\n",
    "            end = mid - 1\n",
    "        else:\n",
    "            start = mid + 1\n",
    "    return None"
   ]
  },
  {
   "cell_type": "code",
   "execution_count": 8,
   "id": "78d7d806-bdcc-4455-a409-22a2913f1623",
   "metadata": {},
   "outputs": [
    {
     "name": "stdin",
     "output_type": "stream",
     "text": [
      " 10 7\n",
      " 1 3 5 7 9 11 13 15 17 19\n"
     ]
    },
    {
     "name": "stdout",
     "output_type": "stream",
     "text": [
      "4\n"
     ]
    }
   ],
   "source": [
    "n, target = list(map(int, input().split()))\n",
    "array = list(map(int, input().split()))\n",
    "\n",
    "result = binary_search(array, target, 0, n - 1)\n",
    "if result == None:\n",
    "    print(\"원소가 존재하지 않습니다.\")\n",
    "else:\n",
    "    print(result + 1)"
   ]
  },
  {
   "cell_type": "markdown",
   "id": "b08e3e74-dc52-48f9-b4f1-64f2432ae052",
   "metadata": {},
   "source": [
    "## 7-4 한 줄 입력받아 출력하는 소스코드"
   ]
  },
  {
   "cell_type": "code",
   "execution_count": 16,
   "id": "8c7f8e43-753e-412f-be50-9374fb3cf153",
   "metadata": {},
   "outputs": [
    {
     "name": "stdout",
     "output_type": "stream",
     "text": [
      "\n"
     ]
    }
   ],
   "source": [
    "import sys\n",
    "\n",
    "input_data = sys.stdin.readline().rstrip() #jupyter 에선 정상 실행안됨\n",
    "\n",
    "print(input_data)"
   ]
  },
  {
   "cell_type": "code",
   "execution_count": 17,
   "id": "f56d0654-33ed-4ab9-b6e0-2a0e0d29692e",
   "metadata": {},
   "outputs": [
    {
     "data": {
      "text/plain": [
       "''"
      ]
     },
     "execution_count": 17,
     "metadata": {},
     "output_type": "execute_result"
    }
   ],
   "source": [
    "sys.stdin.readline().rstrip()"
   ]
  },
  {
   "attachments": {
    "8a9e3cf5-da3b-4348-bf71-8d220a780efa.png": {
     "image/png": "[encoded data removed]"
    }
   },
   "cell_type": "markdown",
   "id": "aaf4ef11-fc29-4a1d-b1f7-dab2509d9152",
   "metadata": {},
   "source": [
    "![image.png](attachment:8a9e3cf5-da3b-4348-bf71-8d220a780efa.png)"
   ]
  },
  {
   "cell_type": "markdown",
   "id": "628b2032-073e-4081-8d0f-11c4eab4e082",
   "metadata": {},
   "source": [
    "콘솔에선 정상적으로 실행됨"
   ]
  },
  {
   "cell_type": "markdown",
   "id": "80d9bdb1-b77f-4758-bd92-c83aeea4d9ee",
   "metadata": {},
   "source": [
    "---"
   ]
  },
  {
   "cell_type": "markdown",
   "id": "80c22842-05be-47a7-87e8-6f44bba1d169",
   "metadata": {},
   "source": [
    "## 실전 문제"
   ]
  },
  {
   "cell_type": "markdown",
   "id": "036d8569-4f46-462e-96f7-514ea348acea",
   "metadata": {},
   "source": [
    "### 1. 부품 찾기"
   ]
  },
  {
   "cell_type": "markdown",
   "id": "e066ac30-16b5-4b89-bc04-b356be722c1e",
   "metadata": {},
   "source": [
    "### 입력 조건\n",
    "- 첫째 줄에는 정수 N이 주어진다. (1 <= N <= 1,000,000)\n",
    "- 둘째 줄에는 공백으로 구분하여 N개의 정수가 주어진다. 이때 정수는 1보다 크고 1,000,000 이하이다.\n",
    "- 셋째 줄에는 정수 M이 주어진다. (1, <= M <= 100,000)\n",
    "- 넷째 줄에는 공백으로 구분하여 M개의 정수가 주어진다. 이때 정수는 1보다 크고 1,000,000 이하이다."
   ]
  },
  {
   "cell_type": "markdown",
   "id": "8770c31d-eb2c-4fc1-b982-c265ed1e75c6",
   "metadata": {},
   "source": [
    "### 출력조건\n",
    "- 첫째 줄에 공백으로 구분하여 각 부품이 존재하면 yes를 없으면 no 를 출력한다."
   ]
  },
  {
   "cell_type": "code",
   "execution_count": null,
   "id": "3f1a6b4d-da56-432d-b95f-eb1871850cdd",
   "metadata": {},
   "outputs": [],
   "source": []
  },
  {
   "cell_type": "markdown",
   "id": "bcab4b6d-969e-4da1-be2f-4bcd6270e1ad",
   "metadata": {},
   "source": [
    "#### 이진탐색 풀이"
   ]
  },
  {
   "cell_type": "code",
   "execution_count": 8,
   "id": "c5a7a765-a4d0-4330-84ff-6eab461886b3",
   "metadata": {},
   "outputs": [],
   "source": [
    "def binary_search(array, target, start, end):\n",
    "    while start <= end:\n",
    "        mid = (start + end) // 2\n",
    "        if array[mid] == target:\n",
    "            return mid\n",
    "        elif array[mid] > target:\n",
    "            end = mid - 1\n",
    "        else:\n",
    "            start = mid + 1\n",
    "    return None"
   ]
  },
  {
   "cell_type": "code",
   "execution_count": 11,
   "id": "172a0e70-3511-4957-863f-e5788f1ce3ee",
   "metadata": {},
   "outputs": [
    {
     "name": "stdin",
     "output_type": "stream",
     "text": [
      " 5\n",
      " 8 3 7 9 2\n",
      " 3\n",
      " 5 7 9\n"
     ]
    },
    {
     "name": "stdout",
     "output_type": "stream",
     "text": [
      "no yes yes "
     ]
    }
   ],
   "source": [
    "#가개에 있는 부품 개수 및 번호 입력\n",
    "n = int(input()) \n",
    "\n",
    "array = list(map(int, input().split()))\n",
    "array.sort()\n",
    "\n",
    "# 손님이 확인 요청한 부품 개수 및 번호 입력\n",
    "m = int(input()) \n",
    "x = list(map(int, input().split()))\n",
    "\n",
    "for i in x:\n",
    "    result = binary_search(array, i, 0, n - 1)\n",
    "    if result != None:\n",
    "        print('yes', end = ' ')\n",
    "    else:\n",
    "        print('no', end = ' ')"
   ]
  },
  {
   "cell_type": "markdown",
   "id": "6b245332-5f32-448d-b53c-00f0d7db3268",
   "metadata": {},
   "source": [
    "### 계수 정렬 풀이"
   ]
  },
  {
   "cell_type": "code",
   "execution_count": 13,
   "id": "e14a069c-6387-4a97-a0d4-90ac216b834a",
   "metadata": {},
   "outputs": [
    {
     "name": "stdin",
     "output_type": "stream",
     "text": [
      " 5\n",
      " 8 3 7 9 2\n",
      " 3\n",
      " 5 7 9\n"
     ]
    },
    {
     "name": "stdout",
     "output_type": "stream",
     "text": [
      "no yes yes "
     ]
    }
   ],
   "source": [
    "n = int(input())\n",
    "\n",
    "array = [0] * 1000001\n",
    "\n",
    "for i in input().split():\n",
    "    array[int(i)] = 1\n",
    "    \n",
    "m = int(input())\n",
    "\n",
    "x = list(map(int, input().split()))\n",
    "\n",
    "for i in x:\n",
    "    if array[i] == 1:\n",
    "        print('yes', end=' ')\n",
    "    else:\n",
    "        print('no', end=' ')"
   ]
  },
  {
   "cell_type": "markdown",
   "id": "5d1c8d78-552a-4ada-9992-1be0e939abe7",
   "metadata": {},
   "source": [
    "### 집합 자료형 예시"
   ]
  },
  {
   "cell_type": "code",
   "execution_count": 2,
   "id": "fca2ab19-365d-43f5-9d7f-4e8d1fbc9fdc",
   "metadata": {},
   "outputs": [
    {
     "name": "stdin",
     "output_type": "stream",
     "text": [
      " 5\n",
      " 8 3 7 9 2\n",
      " 3\n",
      " 5 7 9\n"
     ]
    },
    {
     "name": "stdout",
     "output_type": "stream",
     "text": [
      "no yes yes "
     ]
    }
   ],
   "source": [
    "n = int(input())\n",
    "\n",
    "array = set(map(int, input().split()))\n",
    "\n",
    "m = int(input())\n",
    "\n",
    "x = list(map(int, input().split()))\n",
    "\n",
    "for i in  x:\n",
    "    if i in array:\n",
    "        print('yes', end =' ')\n",
    "    else:\n",
    "        print('no', end = ' ')"
   ]
  },
  {
   "cell_type": "markdown",
   "id": "b474d2d2-141c-4279-a2b4-89e2f9479bf9",
   "metadata": {},
   "source": [
    "---"
   ]
  },
  {
   "cell_type": "markdown",
   "id": "3e2e2863-5ed5-4471-9d30-3b481f8ba0bb",
   "metadata": {},
   "source": [
    "### 2. 떡볶이 떡 만들기"
   ]
  },
  {
   "cell_type": "markdown",
   "id": "f4569616-ee06-492d-b4fe-826d5cfdcb26",
   "metadata": {},
   "source": [
    "### 입력조건\n",
    "- 첫째 줄의 떡의 개수 N과 요청한 떡의 길이 M이 주어진다. (1 <= N <= 1,000,000, 1 <= M <= 2,000,000,000)\n",
    "- 둘째 줄에는 떡의 개별 높이가 주어진다. 떡 높이의 총합은 항상 M 이상이므로, 손님은 필요한 양만큼 떡을 사갈 수 있다. 높이는 10억보다 작거나 같은 양의 정수 또는 0이다."
   ]
  },
  {
   "cell_type": "markdown",
   "id": "997f4bb6-d8be-4876-b685-49c20352984c",
   "metadata": {},
   "source": [
    "### 출력조건\n",
    "- 적어도 M만큼의 떡을 집에 가져가기 위해 절단기에 설정할 수 있는 높이의 최댓값을 출력한다."
   ]
  },
  {
   "cell_type": "code",
   "execution_count": 7,
   "id": "c91c97ab-0a61-4ef5-b27c-562ce11a8b52",
   "metadata": {},
   "outputs": [
    {
     "name": "stdin",
     "output_type": "stream",
     "text": [
      " 4 6\n",
      " 19 15 10 17\n"
     ]
    },
    {
     "name": "stdout",
     "output_type": "stream",
     "text": [
      "total : 25 | start: 10 mid : 9 end : 19\n",
      "total : 9 | start: 15 mid : 14 end : 19\n",
      "total : 2 | start: 15 mid : 17 end : 16\n",
      "total : 6 | start: 16 mid : 15 end : 16\n",
      "total : 4 | start: 16 mid : 16 end : 15\n",
      "15\n"
     ]
    }
   ],
   "source": [
    "n, m = list(map(int, input().split(' ')))\n",
    "\n",
    "array = list(map(int, input().split()))\n",
    "\n",
    "start = 0\n",
    "end = max(array)\n",
    "\n",
    "result = 0\n",
    "while(start <= end):\n",
    "    total = 0\n",
    "    mid = (start + end) // 2\n",
    "    for x in array:\n",
    "        if x > mid:\n",
    "            total += x - mid\n",
    "    \n",
    "    if total < m:\n",
    "        end = mid - 1\n",
    "    else :\n",
    "        result = mid\n",
    "        start = mid + 1\n",
    "    \n",
    "    print('total : {0} | start: {1} mid : {2} end : {3}'.format(total, start, mid, end))\n",
    "\n",
    "print(result)"
   ]
  },
  {
   "cell_type": "code",
   "execution_count": null,
   "id": "afc14357-da11-4e51-a7c6-10adebcccbec",
   "metadata": {},
   "outputs": [],
   "source": []
  }
 ],
 "metadata": {
  "kernelspec": {
   "display_name": "Python 3",
   "language": "python",
   "name": "python3"
  },
  "language_info": {
   "codemirror_mode": {
    "name": "ipython",
    "version": 3
   },
   "file_extension": ".py",
   "mimetype": "text/x-python",
   "name": "python",
   "nbconvert_exporter": "python",
   "pygments_lexer": "ipython3",
   "version": "3.8.5"
  }
 },
 "nbformat": 4,
 "nbformat_minor": 5
}
